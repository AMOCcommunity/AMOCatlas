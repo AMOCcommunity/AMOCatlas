{
 "cells": [
  {
   "cell_type": "markdown",
   "id": "c6a29764-f39c-431c-8e77-fbc6bfe20f01",
   "metadata": {},
   "source": [
    "# AMOCarray demo\n",
    "\n",
    "The purpose of this notebook is to demonstrate the functionality of `AMOCarray`.\n",
    "\n",
    "The demo is organised to show\n",
    "\n",
    "- Step 1: Loading and plotting a sample dataset\n",
    "\n",
    "- Step 2: Exploring the dataset attributes and variables.\n",
    "\n",
    "Note that when you submit a pull request, you should `clear all outputs` from your python notebook for a cleaner merge.\n"
   ]
  },
  {
   "cell_type": "code",
   "execution_count": null,
   "id": "6a1920f3",
   "metadata": {},
   "outputs": [],
   "source": [
    "import pathlib\n",
    "import sys\n",
    "\n",
    "script_dir = pathlib.Path().parent.absolute()\n",
    "parent_dir = script_dir.parents[0]\n",
    "sys.path.append(str(parent_dir))\n",
    "\n",
    "import importlib_resources\n",
    "import importlib\n",
    "\n",
    "import xarray as xr\n",
    "import os\n",
    "import pooch\n",
    "from amocarray import readers, writers, plotters, tools, utilities\n"
   ]
  },
  {
   "cell_type": "code",
   "execution_count": null,
   "id": "1e070d18",
   "metadata": {},
   "outputs": [],
   "source": [
    "# Specify the path for writing datafiles\n",
    "data_path = os.path.join(parent_dir, 'data')"
   ]
  },
  {
   "cell_type": "code",
   "execution_count": null,
   "id": "9414445e",
   "metadata": {},
   "outputs": [],
   "source": [
    "# Load data from data/moc_transports\n",
    "ds = readers.load_sample_dataset()\n",
    "type(ds)"
   ]
  },
  {
   "cell_type": "code",
   "execution_count": null,
   "id": "cde6d387",
   "metadata": {},
   "outputs": [],
   "source": [
    "plotters.show_contents(ds)"
   ]
  },
  {
   "cell_type": "code",
   "execution_count": null,
   "id": "c0e74af4",
   "metadata": {},
   "outputs": [],
   "source": [
    "import matplotlib.pyplot as plt\n",
    "\n",
    "# Resample the dataset to monthly averages\n",
    "ds_monthly = ds.resample(time='ME').mean()\n",
    "\n",
    "# Initialize the figure and axes with a specific figure size\n",
    "fig, axes = plt.subplots(figsize=(8, 3))\n",
    "\n",
    "# Plot the original dataset in thin grey\n",
    "plt.plot(ds['time'], ds['moc_mar_hc10'], color='grey', alpha=0.5, linewidth=0.5, label='Original')\n",
    "\n",
    "# Plot the monthly averaged dataset in thick red\n",
    "plt.plot(ds_monthly['time'], ds_monthly['moc_mar_hc10'], color='red', linewidth=1, label='Monthly Average')\n",
    "\n",
    "# Add a horizontal line at y=0\n",
    "plt.axhline(0, color='black', linestyle='--', linewidth=0.5)\n",
    "\n",
    "# Customize the axes\n",
    "axes.spines['top'].set_visible(False)\n",
    "axes.spines['right'].set_visible(False)\n",
    "\n",
    "# Add title and labels\n",
    "plt.title('RAPID 26°N - AMOC')\n",
    "plt.xlabel('Time')\n",
    "plt.ylabel('Transport [Sv]')\n",
    "plt.legend()\n",
    "\n"
   ]
  },
  {
   "cell_type": "code",
   "execution_count": null,
   "id": "17f61d98",
   "metadata": {},
   "outputs": [],
   "source": [
    "datasets16 = readers.read_16N(\"https://mooring.ucsd.edu/move/nc/\")"
   ]
  },
  {
   "cell_type": "code",
   "execution_count": null,
   "id": "be4323ac",
   "metadata": {},
   "outputs": [],
   "source": [
    "# Resample the dataset to monthly averages\n",
    "ds_monthly = datasets16.resample(TIME='ME').mean()\n",
    "\n",
    "# Create a figure and axis\n",
    "fig, ax = plt.subplots(figsize=(10, 3))\n",
    "\n",
    "# Plot the total transport from the MOVE dataset in thin grey\n",
    "ax.plot(datasets16['TIME'], datasets16['TRANSPORT_TOTAL'], color='grey', alpha=0.5, linewidth=0.5, label='Total Transport')\n",
    "\n",
    "# Plot the monthly averaged dataset in thick red\n",
    "ax.plot(ds_monthly['TIME'], ds_monthly['TRANSPORT_TOTAL'], color='darkblue', linewidth=1, label='Monthly Average')\n",
    "# Add a horizontal line at y=0\n",
    "ax.axhline(0, color='black', linestyle='--', linewidth=0.5)\n",
    "\n",
    "# Customize the axes\n",
    "ax.spines['top'].set_visible(False)\n",
    "ax.spines['right'].set_visible(False)\n",
    "\n",
    "# Add labels, title, and legend\n",
    "ax.set_title('MOVE 16°N - NADW transport')\n",
    "ax.set_xlabel('Time')\n",
    "ax.set_ylabel('Transport [Sv]')\n",
    "ax.legend()\n",
    "\n",
    "# Customize the grid\n",
    "ax.grid(True, linestyle='--', alpha=0.5)"
   ]
  },
  {
   "cell_type": "code",
   "execution_count": null,
   "id": "f4b89506",
   "metadata": {},
   "outputs": [],
   "source": [
    "importlib.reload(readers)\n",
    "dataset = readers.read_osnap(None, ['OSNAP_MOC_MHT_MFT_TimeSeries_201408_202006_2023.nc'])\n"
   ]
  },
  {
   "cell_type": "code",
   "execution_count": null,
   "id": "8c356a46",
   "metadata": {},
   "outputs": [],
   "source": [
    "# Create a figure and axis\n",
    "fig, ax = plt.subplots(figsize=(10, 4))\n",
    "\n",
    "# Add shaded error bars using MOC_ALL_ERR\n",
    "# Add shaded error bars for MOC_ALL\n",
    "ax.set_clip_on(False)\n",
    "\n",
    "ax.fill_between(dataset['TIME'], dataset['MOC_ALL'] - dataset['MOC_ALL_ERR'], dataset['MOC_ALL'] + dataset['MOC_ALL_ERR'], color='grey', alpha=0.3)\n",
    "\n",
    "# Add shaded error bars for MOC_EAST in orange\n",
    "ax.fill_between(dataset['TIME'], dataset['MOC_EAST'] - dataset['MOC_EAST_ERR'], dataset['MOC_EAST'] + dataset['MOC_EAST_ERR'], color='indianred', alpha=0.3)\n",
    "\n",
    "# Add shaded error bars for MOC_WEST in dark cyan\n",
    "ax.fill_between(dataset['TIME'], dataset['MOC_WEST'] - dataset['MOC_WEST_ERR'], dataset['MOC_WEST'] + dataset['MOC_WEST_ERR'], color='darkcyan', alpha=0.3)\n",
    "\n",
    "# Plot the MOC_ALL time series\n",
    "ax.plot(dataset['TIME'], dataset['MOC_ALL'], color='black', label='OSNAP Full')\n",
    "ax.plot(dataset['TIME'], dataset['MOC_EAST'], color='indianred', label='OSNAP East')\n",
    "ax.plot(dataset['TIME'], dataset['MOC_WEST'], color='darkcyan', label='OSNAP West')\n",
    "\n",
    "# Add a horizontal line at y=0\n",
    "ax.axhline(0, color='black', linestyle='--', linewidth=0.5)\n",
    "\n",
    "# Customize the axes\n",
    "ax.spines['top'].set_visible(False)\n",
    "ax.spines['right'].set_visible(False)\n",
    "\n",
    "# Set y-limits but allow the plot to go outside the limits\n",
    "ax.set_ylim(-5, 30)\n",
    "ax.set_clip_on(False)\n",
    "\n",
    "# Customize the plot\n",
    "ax.set_title('OSNAP - AMOC transport')\n",
    "ax.set_xlabel('Time')\n",
    "ax.set_ylabel('Transport [Sv]')\n",
    "ax.legend(loc='best')\n",
    "ax.grid(True, linestyle='--', alpha=0.5)"
   ]
  },
  {
   "cell_type": "markdown",
   "id": "937bb5cd",
   "metadata": {},
   "source": []
  }
 ],
 "metadata": {
  "kernelspec": {
   "display_name": "venv",
   "language": "python",
   "name": "python3"
  },
  "language_info": {
   "codemirror_mode": {
    "name": "ipython",
    "version": 3
   },
   "file_extension": ".py",
   "mimetype": "text/x-python",
   "name": "python",
   "nbconvert_exporter": "python",
   "pygments_lexer": "ipython3",
   "version": "3.13.0"
  }
 },
 "nbformat": 4,
 "nbformat_minor": 5
}
