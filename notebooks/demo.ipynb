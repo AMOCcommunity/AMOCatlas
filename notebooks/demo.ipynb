{
 "cells": [
  {
   "cell_type": "markdown",
   "id": "c6a29764-f39c-431c-8e77-fbc6bfe20f01",
   "metadata": {},
   "source": [
    "# AMOCarray demo\n",
    "\n",
    "The purpose of this notebook is to demonstrate the functionality of `AMOCarray`.\n",
    "\n",
    "The demo is organised to show\n",
    "\n",
    "- Step 1: Loading and plotting a sample dataset\n",
    "\n",
    "- Step 2: Exploring the dataset attributes and variables.\n",
    "\n",
    "Note that when you submit a pull request, you should `clear all outputs` from your python notebook for a cleaner merge.\n"
   ]
  },
  {
   "cell_type": "code",
   "execution_count": null,
   "id": "6a1920f3",
   "metadata": {},
   "outputs": [],
   "source": [
    "import pathlib\n",
    "import sys\n",
    "\n",
    "script_dir = pathlib.Path().parent.absolute()\n",
    "parent_dir = script_dir.parents[0]\n",
    "sys.path.append(str(parent_dir))\n",
    "\n",
    "import xarray as xr\n",
    "import os\n",
    "import pooch\n",
    "from amocarray import readers, writers, plotters, tools, utilities\n"
   ]
  },
  {
   "cell_type": "code",
   "execution_count": null,
   "id": "1e070d18",
   "metadata": {},
   "outputs": [],
   "source": [
    "# Specify the path for writing datafiles\n",
    "data_path = os.path.join(parent_dir, 'data')"
   ]
  },
  {
   "cell_type": "code",
   "execution_count": null,
   "id": "9414445e",
   "metadata": {},
   "outputs": [],
   "source": [
    "# Load data from data/moc_transports\n",
    "ds = readers.load_sample_dataset()\n",
    "print(ds)"
   ]
  },
  {
   "cell_type": "code",
   "execution_count": null,
   "id": "cde6d387",
   "metadata": {},
   "outputs": [],
   "source": [
    "plotters.show_contents(ds)"
   ]
  },
  {
   "cell_type": "code",
   "execution_count": null,
   "id": "c0e74af4",
   "metadata": {},
   "outputs": [],
   "source": [
    "import matplotlib.pyplot as plt\n",
    "\n",
    "fig, axes = plt.subplots(nrows=1, ncols=1, figsize=(12, 5))\n",
    "\n",
    "# Plot stream function\n",
    "ds['stream_function_mar'].plot(x='time', y='depth', cmap='viridis', ax=axes)\n",
    "axes.set_title('Stream Function (MAR)')\n",
    "axes.invert_yaxis()\n",
    "plt.tight_layout()\n",
    "plt.show()"
   ]
  }
 ],
 "metadata": {
  "kernelspec": {
   "display_name": "venv",
   "language": "python",
   "name": "python3"
  },
  "language_info": {
   "codemirror_mode": {
    "name": "ipython",
    "version": 3
   },
   "file_extension": ".py",
   "mimetype": "text/x-python",
   "name": "python",
   "nbconvert_exporter": "python",
   "pygments_lexer": "ipython3",
   "version": "3.13.0"
  }
 },
 "nbformat": 4,
 "nbformat_minor": 5
}
