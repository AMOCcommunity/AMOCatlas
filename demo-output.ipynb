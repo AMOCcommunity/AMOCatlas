{
 "cells": [
  {
   "cell_type": "markdown",
   "id": "c6a29764-f39c-431c-8e77-fbc6bfe20f01",
   "metadata": {},
   "source": [
    "# AMOCarray demo\n",
    "\n",
    "The purpose of this notebook is to demonstrate the functionality of `AMOCarray`.\n",
    "\n",
    "The demo is organised to show\n",
    "\n",
    "- Step 1: Loading and plotting a sample dataset\n",
    "\n",
    "- Step 2: Exploring the dataset attributes and variables.\n",
    "\n",
    "Note that when you submit a pull request, you should `clear all outputs` from your python notebook for a cleaner merge.\n"
   ]
  },
  {
   "cell_type": "code",
   "execution_count": 1,
   "id": "6a1920f3",
   "metadata": {
    "execution": {
     "iopub.execute_input": "2025-04-23T13:50:09.757936Z",
     "iopub.status.busy": "2025-04-23T13:50:09.757781Z",
     "iopub.status.idle": "2025-04-23T13:50:13.839764Z",
     "shell.execute_reply": "2025-04-23T13:50:13.839241Z"
    }
   },
   "outputs": [],
   "source": [
    "import pathlib\n",
    "import sys\n",
    "\n",
    "script_dir = pathlib.Path().parent.absolute()\n",
    "parent_dir = script_dir.parents[0]\n",
    "sys.path.append(str(parent_dir))\n",
    "\n",
    "import importlib\n",
    "\n",
    "import xarray as xr\n",
    "import os\n",
    "from amocarray import readers, plotters, standardise, utilities"
   ]
  },
  {
   "cell_type": "code",
   "execution_count": 2,
   "id": "1e070d18",
   "metadata": {
    "execution": {
     "iopub.execute_input": "2025-04-23T13:50:13.841855Z",
     "iopub.status.busy": "2025-04-23T13:50:13.841380Z",
     "iopub.status.idle": "2025-04-23T13:50:13.843902Z",
     "shell.execute_reply": "2025-04-23T13:50:13.843529Z"
    }
   },
   "outputs": [],
   "source": [
    "# Specify the path for writing datafiles\n",
    "data_path = os.path.join(parent_dir, \"data\")"
   ]
  },
  {
   "cell_type": "markdown",
   "id": "9414445e",
   "metadata": {},
   "source": [
    "### Load RAPID 26°N"
   ]
  },
  {
   "cell_type": "code",
   "execution_count": 3,
   "id": "fd849c48",
   "metadata": {
    "execution": {
     "iopub.execute_input": "2025-04-23T13:50:13.845488Z",
     "iopub.status.busy": "2025-04-23T13:50:13.845211Z",
     "iopub.status.idle": "2025-04-23T13:50:43.367318Z",
     "shell.execute_reply": "2025-04-23T13:50:43.366896Z"
    }
   },
   "outputs": [
    {
     "name": "stderr",
     "output_type": "stream",
     "text": [
      "20250423T135013 INFO     setup_logger Logger initialized for array: rapid, writing to /home/runner/work/amocarray/amocarray/logs/RAPID_20250423T13_read.log\n"
     ]
    },
    {
     "name": "stderr",
     "output_type": "stream",
     "text": [
      "20250423T135013 INFO     load_dataset Loading dataset for array: rapid\n"
     ]
    },
    {
     "name": "stderr",
     "output_type": "stream",
     "text": [
      "20250423T135013 INFO     read_rapid Starting to read RAPID dataset\n"
     ]
    },
    {
     "name": "stderr",
     "output_type": "stream",
     "text": [
      "20250423T135013 INFO     resolve_file_path Using cached file: /home/runner/work/amocarray/amocarray/data/moc_transports.nc\n"
     ]
    },
    {
     "name": "stderr",
     "output_type": "stream",
     "text": [
      "20250423T135013 INFO     read_rapid Opening RAPID dataset: /home/runner/work/amocarray/amocarray/data/moc_transports.nc\n"
     ]
    },
    {
     "name": "stderr",
     "output_type": "stream",
     "text": [
      "20250423T135013 INFO     read_rapid Attaching metadata to RAPID dataset from file: moc_transports.nc\n"
     ]
    },
    {
     "name": "stderr",
     "output_type": "stream",
     "text": [
      "20250423T135013 INFO     read_rapid Successfully loaded 1 RAPID dataset(s)\n"
     ]
    },
    {
     "name": "stderr",
     "output_type": "stream",
     "text": [
      "20250423T135013 INFO     load_dataset Successfully loaded 1 dataset(s) for array: rapid\n"
     ]
    },
    {
     "name": "stderr",
     "output_type": "stream",
     "text": [
      "20250423T135013 INFO     _summarise_datasets \n",
      "Summary for array 'rapid':\n",
      "Total datasets loaded: 1\n",
      "\n",
      "Dataset 1:\n",
      "  Source file: moc_transports.nc\n",
      "  Time coverage: TIME variable not found\n",
      "  Dimensions:\n",
      "    - time: 13779\n",
      "  Variables:\n",
      "    - t_therm10: shape (13779,)\n",
      "    - t_aiw10: shape (13779,)\n",
      "    - t_ud10: shape (13779,)\n",
      "    - t_ld10: shape (13779,)\n",
      "    - t_bw10: shape (13779,)\n",
      "    - t_gs10: shape (13779,)\n",
      "    - t_ek10: shape (13779,)\n",
      "    - t_umo10: shape (13779,)\n",
      "    - moc_mar_hc10: shape (13779,)\n",
      "\n"
     ]
    },
    {
     "name": "stderr",
     "output_type": "stream",
     "text": [
      "20250423T135013 DEBUG    standardise_array Standardising moc_transports.nc for RAPID\n"
     ]
    },
    {
     "name": "stderr",
     "output_type": "stream",
     "text": [
      "20250423T135013 DEBUG    merge_metadata_aliases Renaming key 'Title' → 'title'\n"
     ]
    },
    {
     "name": "stderr",
     "output_type": "stream",
     "text": [
      "20250423T135013 DEBUG    merge_metadata_aliases Renaming key 'Institution' → 'institution'\n"
     ]
    },
    {
     "name": "stderr",
     "output_type": "stream",
     "text": [
      "20250423T135013 DEBUG    merge_metadata_aliases Renaming key 'Website' → 'web_link'\n"
     ]
    },
    {
     "name": "stderr",
     "output_type": "stream",
     "text": [
      "20250423T135013 DEBUG    merge_metadata_aliases Renaming key 'Acknowledgement' → 'acknowledgement'\n"
     ]
    },
    {
     "name": "stderr",
     "output_type": "stream",
     "text": [
      "20250423T135013 DEBUG    merge_metadata_aliases Renaming key 'Created_by' → 'creator_name'\n"
     ]
    },
    {
     "name": "stderr",
     "output_type": "stream",
     "text": [
      "20250423T135013 DEBUG    merge_metadata_aliases Renaming key 'Creation_date' → 'date_created'\n"
     ]
    },
    {
     "name": "stderr",
     "output_type": "stream",
     "text": [
      "20250423T135013 DEBUG    merge_metadata_aliases Renaming key 'Principle_investigator' → 'principal_investigator'\n"
     ]
    },
    {
     "name": "stderr",
     "output_type": "stream",
     "text": [
      "20250423T135013 DEBUG    merge_metadata_aliases Renaming key 'Principle_investigator_email' → 'principal_investigator_email'\n"
     ]
    },
    {
     "name": "stderr",
     "output_type": "stream",
     "text": [
      "20250423T135013 DEBUG    merge_metadata_aliases Renaming key 'DOI' → 'doi'\n"
     ]
    },
    {
     "name": "stderr",
     "output_type": "stream",
     "text": [
      "20250423T135013 DEBUG    merge_metadata_aliases Conflict for 'web_link' from 'web_link'; keeping first value\n"
     ]
    },
    {
     "name": "stderr",
     "output_type": "stream",
     "text": [
      "20250423T135013 DEBUG    merge_metadata_aliases Renaming key 'note' → 'comment'\n"
     ]
    },
    {
     "name": "stderr",
     "output_type": "stream",
     "text": [
      "20250423T135013 DEBUG    merge_metadata_aliases Renaming key 'weblink' → 'web_link'\n"
     ]
    },
    {
     "name": "stderr",
     "output_type": "stream",
     "text": [
      "20250423T135013 DEBUG    merge_metadata_aliases Conflict for 'web_link' from 'weblink'; keeping first value\n"
     ]
    },
    {
     "name": "stderr",
     "output_type": "stream",
     "text": [
      "20250423T135013 DEBUG    merge_metadata_aliases Conflict for 'comment' from 'comment'; keeping first value\n"
     ]
    },
    {
     "name": "stderr",
     "output_type": "stream",
     "text": [
      "20250423T135013 DEBUG    merge_metadata_aliases Skipped duplicate (identical) key 'acknowledgement' → 'acknowledgement'\n"
     ]
    },
    {
     "name": "stderr",
     "output_type": "stream",
     "text": [
      "20250423T135013 DEBUG    merge_metadata_aliases Renaming key 'platform_type' → 'platform'\n"
     ]
    },
    {
     "name": "stderr",
     "output_type": "stream",
     "text": [
      "20250423T135013 DEBUG    merge_metadata_aliases Skipped duplicate (identical) key 'creator_name' → 'creator_name'\n"
     ]
    },
    {
     "name": "stderr",
     "output_type": "stream",
     "text": [
      "20250423T135013 DEBUG    merge_metadata_aliases Conflict for 'institution' from 'institution'; keeping first value\n"
     ]
    },
    {
     "name": "stderr",
     "output_type": "stream",
     "text": [
      "20250423T135013 DEBUG    merge_metadata_aliases Conflict for 'doi' from 'doi'; keeping first value\n"
     ]
    },
    {
     "name": "stderr",
     "output_type": "stream",
     "text": [
      "20250423T135013 DEBUG    _consolidate_contributors Starting _consolidate_contributors with attrs: {'title': 'RAPID MOC timeseries', 'institution': 'National Oceanography Centre,UK', 'web_link': 'http://www.rapid.ac.uk/', 'acknowledgement': 'The RAPID-MOC monitoring project is funded by the Natural Environment Research Council and data is freely available from www.rapid.ac.uk/', 'creator_name': 'Ben Moat', 'date_created': '17-Sep-2024', 'principal_investigator': 'Ben Moat', 'principal_investigator_email': 'ben.moat@noc.ac.uk', 'doi': 'doi: 10.5285/223b34a32dc5c945e0637086abc0f274', 'source_file': 'moc_transports.nc', 'source_path': '/home/runner/work/amocarray/amocarray/data/moc_transports.nc', 'description': 'RAPID 26N transport estimates dataset', 'project': 'RAPID-AMOC 26°N array', 'comment': 'Dataset accessed and processed via xarray', 'data_product': 'RAPID layer transport time series', 'program': 'RAPID', 'license': 'CC-BY 4.0', 'featureType': 'timeSeries', 'Conventions': 'CF-1.8, ACDD-1.3', 'time_coverage_start': '2004-04-01', 'time_coverage_end': '2023-12-31', 'platform': 'Mooring array', 'creator_email': 'ben.moat@noc.ac.uk', 'summary': 'RAPID 26N transport estimates dataset'}\n"
     ]
    },
    {
     "name": "stderr",
     "output_type": "stream",
     "text": [
      "20250423T135013 DEBUG    _consolidate_contributors Email buckets: {'principal_investigator_email': ['ben.moat@noc.ac.uk'], 'creator_email': ['ben.moat@noc.ac.uk']}\n"
     ]
    },
    {
     "name": "stderr",
     "output_type": "stream",
     "text": [
      "20250423T135013 DEBUG    _consolidate_contributors URL buckets: {}\n"
     ]
    },
    {
     "name": "stderr",
     "output_type": "stream",
     "text": [
      "20250423T135013 DEBUG    _consolidate_contributors Names: ['Ben Moat', 'Ben Moat']; Roles: ['creator', 'PI']; Sources: ['creator_name', 'principal_investigator']\n"
     ]
    },
    {
     "name": "stderr",
     "output_type": "stream",
     "text": [
      "20250423T135013 DEBUG    _consolidate_contributors Set contributor_name='Ben Moat, Ben Moat', contributor_role='creator, PI'\n"
     ]
    },
    {
     "name": "stderr",
     "output_type": "stream",
     "text": [
      "20250423T135013 DEBUG    _consolidate_contributors Aligned contributor_email='ben.moat@noc.ac.uk, ben.moat@noc.ac.uk'\n"
     ]
    },
    {
     "name": "stderr",
     "output_type": "stream",
     "text": [
      "20250423T135013 DEBUG    _consolidate_contributors Aligned contributor_id=', '\n"
     ]
    },
    {
     "name": "stderr",
     "output_type": "stream",
     "text": [
      "20250423T135013 DEBUG    _consolidate_contributors Matched institution 'National Oceanography Centre\\xa0(Southampton) (UK)' → 'national oceanography centre (southampton) (uk)' → 'https://edmo.seadatanet.org/report/17'\n"
     ]
    },
    {
     "name": "stderr",
     "output_type": "stream",
     "text": [
      "20250423T135013 DEBUG    _consolidate_contributors Finished _consolidate_contributors: {'title': 'RAPID MOC timeseries', 'web_link': 'http://www.rapid.ac.uk/', 'acknowledgement': 'The RAPID-MOC monitoring project is funded by the Natural Environment Research Council and data is freely available from www.rapid.ac.uk/', 'date_created': '17-Sep-2024', 'doi': 'doi: 10.5285/223b34a32dc5c945e0637086abc0f274', 'source_file': 'moc_transports.nc', 'source_path': '/home/runner/work/amocarray/amocarray/data/moc_transports.nc', 'description': 'RAPID 26N transport estimates dataset', 'project': 'RAPID-AMOC 26°N array', 'comment': 'Dataset accessed and processed via xarray', 'data_product': 'RAPID layer transport time series', 'program': 'RAPID', 'license': 'CC-BY 4.0', 'featureType': 'timeSeries', 'Conventions': 'CF-1.8, ACDD-1.3', 'time_coverage_start': '2004-04-01', 'time_coverage_end': '2023-12-31', 'platform': 'Mooring array', 'summary': 'RAPID 26N transport estimates dataset', 'contributor_name': 'Ben Moat, Ben Moat', 'contributor_role': 'creator, PI', 'contributor_email': 'ben.moat@noc.ac.uk, ben.moat@noc.ac.uk', 'contributor_id': ', ', 'contributing_institutions': 'National Oceanography Centre\\xa0(Southampton) (UK)', 'contributing_institutions_vocabulary': 'https://edmo.seadatanet.org/report/17', 'contributing_institutions_role': '', 'contributing_institutions_role_vocabulary': ''}\n"
     ]
    },
    {
     "name": "stderr",
     "output_type": "stream",
     "text": [
      "20250423T135013 DEBUG    normalize_and_add_vocabulary Normalized 'platform': 'Mooring array' → 'mooring'\n"
     ]
    },
    {
     "name": "stderr",
     "output_type": "stream",
     "text": [
      "20250423T135013 DEBUG    normalize_and_add_vocabulary Added vocabulary for 'platform': https://vocab.nerc.ac.uk/collection/L06/\n"
     ]
    },
    {
     "name": "stderr",
     "output_type": "stream",
     "text": [
      "20250423T135013 DEBUG    normalize_and_add_vocabulary Added vocabulary for 'featureType': https://cfconventions.org/cf-conventions/v1.6.0/cf-conventions.html#_features_and_feature_types\n"
     ]
    },
    {
     "name": "stderr",
     "output_type": "stream",
     "text": [
      "20250423T135013 INFO     setup_logger Logger initialized for array: rapid, writing to /home/runner/work/amocarray/amocarray/logs/RAPID_20250423T13_read.log\n"
     ]
    },
    {
     "name": "stderr",
     "output_type": "stream",
     "text": [
      "20250423T135013 INFO     load_dataset Loading dataset for array: rapid\n"
     ]
    },
    {
     "name": "stderr",
     "output_type": "stream",
     "text": [
      "20250423T135013 INFO     read_rapid Starting to read RAPID dataset\n"
     ]
    },
    {
     "name": "stderr",
     "output_type": "stream",
     "text": [
      "20250423T135013 INFO     resolve_file_path Using cached file: /home/runner/work/amocarray/amocarray/data/moc_vertical.nc\n"
     ]
    },
    {
     "name": "stderr",
     "output_type": "stream",
     "text": [
      "20250423T135013 INFO     read_rapid Opening RAPID dataset: /home/runner/work/amocarray/amocarray/data/moc_vertical.nc\n"
     ]
    },
    {
     "name": "stderr",
     "output_type": "stream",
     "text": [
      "20250423T135013 INFO     read_rapid Attaching metadata to RAPID dataset from file: moc_vertical.nc\n"
     ]
    },
    {
     "name": "stderr",
     "output_type": "stream",
     "text": [
      "20250423T135013 INFO     resolve_file_path Downloading file from https://rapid.ac.uk/sites/default/files/rapid_data/ts_gridded.nc to /home/runner/work/amocarray/amocarray/data\n"
     ]
    },
    {
     "name": "stdout",
     "output_type": "stream",
     "text": [
      "Summary for array 'rapid':\n",
      "Total datasets loaded: 1\n",
      "\n",
      "Dataset 1:\n",
      "  Source file: moc_transports.nc\n",
      "  Time coverage: TIME variable not found\n",
      "  Dimensions:\n",
      "    - time: 13779\n",
      "  Variables:\n",
      "    - t_therm10: shape (13779,)\n",
      "    - t_aiw10: shape (13779,)\n",
      "    - t_ud10: shape (13779,)\n",
      "    - t_ld10: shape (13779,)\n",
      "    - t_bw10: shape (13779,)\n",
      "    - t_gs10: shape (13779,)\n",
      "    - t_ek10: shape (13779,)\n",
      "    - t_umo10: shape (13779,)\n",
      "    - moc_mar_hc10: shape (13779,)\n",
      "\n"
     ]
    },
    {
     "name": "stderr",
     "output_type": "stream",
     "text": [
      "20250423T135043 INFO     read_rapid Opening RAPID dataset: /home/runner/work/amocarray/amocarray/data/ts_gridded.nc\n"
     ]
    },
    {
     "name": "stderr",
     "output_type": "stream",
     "text": [
      "20250423T135043 INFO     read_rapid Attaching metadata to RAPID dataset from file: ts_gridded.nc\n"
     ]
    },
    {
     "name": "stderr",
     "output_type": "stream",
     "text": [
      "20250423T135043 INFO     resolve_file_path Using cached file: /home/runner/work/amocarray/amocarray/data/moc_transports.nc\n"
     ]
    },
    {
     "name": "stderr",
     "output_type": "stream",
     "text": [
      "20250423T135043 INFO     read_rapid Opening RAPID dataset: /home/runner/work/amocarray/amocarray/data/moc_transports.nc\n"
     ]
    },
    {
     "name": "stderr",
     "output_type": "stream",
     "text": [
      "20250423T135043 INFO     read_rapid Attaching metadata to RAPID dataset from file: moc_transports.nc\n"
     ]
    },
    {
     "name": "stderr",
     "output_type": "stream",
     "text": [
      "20250423T135043 INFO     read_rapid Successfully loaded 3 RAPID dataset(s)\n"
     ]
    },
    {
     "name": "stderr",
     "output_type": "stream",
     "text": [
      "20250423T135043 INFO     load_dataset Successfully loaded 3 dataset(s) for array: rapid\n"
     ]
    },
    {
     "name": "stderr",
     "output_type": "stream",
     "text": [
      "20250423T135043 INFO     _summarise_datasets \n",
      "Summary for array 'rapid':\n",
      "Total datasets loaded: 3\n",
      "\n",
      "Dataset 1:\n",
      "  Source file: moc_vertical.nc\n",
      "  Time coverage: TIME variable not found\n",
      "  Dimensions:\n",
      "    - time: 13779\n",
      "    - depth: 307\n",
      "  Variables:\n",
      "    - stream_function_mar: shape (307, 13779)\n",
      "\n",
      "Dataset 2:\n",
      "  Source file: ts_gridded.nc\n",
      "  Time coverage: TIME variable not found\n",
      "  Dimensions:\n",
      "    - time: 13779\n",
      "    - depth: 242\n",
      "  Variables:\n",
      "    - pressure: shape (242,)\n",
      "    - TG_west: shape (242, 13779)\n",
      "    - SG_west: shape (242, 13779)\n",
      "    - TG_wb3: shape (242, 13779)\n",
      "    - SG_wb3: shape (242, 13779)\n",
      "    - TG_east: shape (242, 13779)\n",
      "    - SG_east: shape (242, 13779)\n",
      "    - TG_marwest: shape (242, 13779)\n",
      "    - SG_marwest: shape (242, 13779)\n",
      "    - TG_mareast: shape (242, 13779)\n",
      "    - SG_mareast: shape (242, 13779)\n",
      "    - TG_west_flag: shape (242, 13779)\n",
      "    - SG_west_flag: shape (242, 13779)\n",
      "    - TG_east_flag: shape (242, 13779)\n",
      "    - SG_east_flag: shape (242, 13779)\n",
      "    - TG_marwest_flag: shape (242, 13779)\n",
      "    - SG_marwest_flag: shape (242, 13779)\n",
      "    - TG_mareast_flag: shape (242, 13779)\n",
      "    - SG_mareast_flag: shape (242, 13779)\n",
      "\n",
      "Dataset 3:\n",
      "  Source file: moc_transports.nc\n",
      "  Time coverage: TIME variable not found\n",
      "  Dimensions:\n",
      "    - time: 13779\n",
      "  Variables:\n",
      "    - t_therm10: shape (13779,)\n",
      "    - t_aiw10: shape (13779,)\n",
      "    - t_ud10: shape (13779,)\n",
      "    - t_ld10: shape (13779,)\n",
      "    - t_bw10: shape (13779,)\n",
      "    - t_gs10: shape (13779,)\n",
      "    - t_ek10: shape (13779,)\n",
      "    - t_umo10: shape (13779,)\n",
      "    - moc_mar_hc10: shape (13779,)\n",
      "\n"
     ]
    },
    {
     "name": "stderr",
     "output_type": "stream",
     "text": [
      "20250423T135043 DEBUG    standardise_array Standardising moc_vertical.nc for RAPID\n"
     ]
    },
    {
     "name": "stderr",
     "output_type": "stream",
     "text": [
      "20250423T135043 DEBUG    merge_metadata_aliases Renaming key 'Title' → 'title'\n"
     ]
    },
    {
     "name": "stderr",
     "output_type": "stream",
     "text": [
      "20250423T135043 DEBUG    merge_metadata_aliases Renaming key 'Institution' → 'institution'\n"
     ]
    },
    {
     "name": "stderr",
     "output_type": "stream",
     "text": [
      "20250423T135043 DEBUG    merge_metadata_aliases Renaming key 'Website' → 'web_link'\n"
     ]
    },
    {
     "name": "stderr",
     "output_type": "stream",
     "text": [
      "20250423T135043 DEBUG    merge_metadata_aliases Renaming key 'Acknowledgement' → 'acknowledgement'\n"
     ]
    },
    {
     "name": "stderr",
     "output_type": "stream",
     "text": [
      "20250423T135043 DEBUG    merge_metadata_aliases Renaming key 'Created_by' → 'creator_name'\n"
     ]
    },
    {
     "name": "stderr",
     "output_type": "stream",
     "text": [
      "20250423T135043 DEBUG    merge_metadata_aliases Renaming key 'Creation_date' → 'date_created'\n"
     ]
    },
    {
     "name": "stderr",
     "output_type": "stream",
     "text": [
      "20250423T135043 DEBUG    merge_metadata_aliases Renaming key 'Principle_investigator' → 'principal_investigator'\n"
     ]
    },
    {
     "name": "stderr",
     "output_type": "stream",
     "text": [
      "20250423T135043 DEBUG    merge_metadata_aliases Renaming key 'Principle_investigator_email' → 'principal_investigator_email'\n"
     ]
    },
    {
     "name": "stderr",
     "output_type": "stream",
     "text": [
      "20250423T135043 DEBUG    merge_metadata_aliases Renaming key 'DOI' → 'doi'\n"
     ]
    },
    {
     "name": "stderr",
     "output_type": "stream",
     "text": [
      "20250423T135043 DEBUG    merge_metadata_aliases Conflict for 'web_link' from 'web_link'; keeping first value\n"
     ]
    },
    {
     "name": "stderr",
     "output_type": "stream",
     "text": [
      "20250423T135043 DEBUG    merge_metadata_aliases Renaming key 'note' → 'comment'\n"
     ]
    },
    {
     "name": "stderr",
     "output_type": "stream",
     "text": [
      "20250423T135043 DEBUG    merge_metadata_aliases Renaming key 'weblink' → 'web_link'\n"
     ]
    },
    {
     "name": "stderr",
     "output_type": "stream",
     "text": [
      "20250423T135043 DEBUG    merge_metadata_aliases Conflict for 'web_link' from 'weblink'; keeping first value\n"
     ]
    },
    {
     "name": "stderr",
     "output_type": "stream",
     "text": [
      "20250423T135043 DEBUG    merge_metadata_aliases Conflict for 'comment' from 'comment'; keeping first value\n"
     ]
    },
    {
     "name": "stderr",
     "output_type": "stream",
     "text": [
      "20250423T135043 DEBUG    merge_metadata_aliases Conflict for 'acknowledgement' from 'acknowledgement'; keeping first value\n"
     ]
    },
    {
     "name": "stderr",
     "output_type": "stream",
     "text": [
      "20250423T135043 DEBUG    merge_metadata_aliases Renaming key 'platform_type' → 'platform'\n"
     ]
    },
    {
     "name": "stderr",
     "output_type": "stream",
     "text": [
      "20250423T135043 DEBUG    merge_metadata_aliases Skipped duplicate (identical) key 'creator_name' → 'creator_name'\n"
     ]
    },
    {
     "name": "stderr",
     "output_type": "stream",
     "text": [
      "20250423T135043 DEBUG    merge_metadata_aliases Conflict for 'institution' from 'institution'; keeping first value\n"
     ]
    },
    {
     "name": "stderr",
     "output_type": "stream",
     "text": [
      "20250423T135043 DEBUG    merge_metadata_aliases Conflict for 'doi' from 'doi'; keeping first value\n"
     ]
    },
    {
     "name": "stderr",
     "output_type": "stream",
     "text": [
      "20250423T135043 DEBUG    _consolidate_contributors Starting _consolidate_contributors with attrs: {'title': 'RAPID streamfunction', 'institution': 'National Oceanography Centre,UK', 'web_link': 'http://www.rapid.ac.uk/', 'acknowledgement': 'The RAPID 26N AMOC monitoring project is funded by the Natural Environment Research Council and data is freely available from www.rapid.ac.uk', 'creator_name': 'Ben Moat', 'date_created': '17-Sep-2024', 'principal_investigator': 'Ben Moat', 'principal_investigator_email': 'ben.moat@noc.ac.uk', 'doi': 'doi: 10.5285/223b34a32dc5c945e0637086abc0f274', 'source_file': 'moc_vertical.nc', 'source_path': '/home/runner/work/amocarray/amocarray/data/moc_vertical.nc', 'description': 'RAPID 26N transport estimates dataset', 'project': 'RAPID-AMOC 26°N array', 'comment': 'Dataset accessed and processed via xarray', 'data_product': 'RAPID vertical streamfunction time series', 'program': 'RAPID', 'license': 'CC-BY 4.0', 'featureType': 'timeSeries', 'Conventions': 'CF-1.8, ACDD-1.3', 'time_coverage_start': '2004-04-01', 'time_coverage_end': '2023-12-31', 'platform': 'Mooring array', 'creator_email': 'ben.moat@noc.ac.uk', 'summary': 'RAPID 26N transport estimates dataset'}\n"
     ]
    },
    {
     "name": "stderr",
     "output_type": "stream",
     "text": [
      "20250423T135043 DEBUG    _consolidate_contributors Email buckets: {'principal_investigator_email': ['ben.moat@noc.ac.uk'], 'creator_email': ['ben.moat@noc.ac.uk']}\n"
     ]
    },
    {
     "name": "stderr",
     "output_type": "stream",
     "text": [
      "20250423T135043 DEBUG    _consolidate_contributors URL buckets: {}\n"
     ]
    },
    {
     "name": "stderr",
     "output_type": "stream",
     "text": [
      "20250423T135043 DEBUG    _consolidate_contributors Names: ['Ben Moat', 'Ben Moat']; Roles: ['creator', 'PI']; Sources: ['creator_name', 'principal_investigator']\n"
     ]
    },
    {
     "name": "stderr",
     "output_type": "stream",
     "text": [
      "20250423T135043 DEBUG    _consolidate_contributors Set contributor_name='Ben Moat, Ben Moat', contributor_role='creator, PI'\n"
     ]
    },
    {
     "name": "stderr",
     "output_type": "stream",
     "text": [
      "20250423T135043 DEBUG    _consolidate_contributors Aligned contributor_email='ben.moat@noc.ac.uk, ben.moat@noc.ac.uk'\n"
     ]
    },
    {
     "name": "stderr",
     "output_type": "stream",
     "text": [
      "20250423T135043 DEBUG    _consolidate_contributors Aligned contributor_id=', '\n"
     ]
    },
    {
     "name": "stderr",
     "output_type": "stream",
     "text": [
      "20250423T135043 DEBUG    _consolidate_contributors Matched institution 'National Oceanography Centre\\xa0(Southampton) (UK)' → 'national oceanography centre (southampton) (uk)' → 'https://edmo.seadatanet.org/report/17'\n"
     ]
    },
    {
     "name": "stderr",
     "output_type": "stream",
     "text": [
      "20250423T135043 DEBUG    _consolidate_contributors Finished _consolidate_contributors: {'title': 'RAPID streamfunction', 'web_link': 'http://www.rapid.ac.uk/', 'acknowledgement': 'The RAPID 26N AMOC monitoring project is funded by the Natural Environment Research Council and data is freely available from www.rapid.ac.uk', 'date_created': '17-Sep-2024', 'doi': 'doi: 10.5285/223b34a32dc5c945e0637086abc0f274', 'source_file': 'moc_vertical.nc', 'source_path': '/home/runner/work/amocarray/amocarray/data/moc_vertical.nc', 'description': 'RAPID 26N transport estimates dataset', 'project': 'RAPID-AMOC 26°N array', 'comment': 'Dataset accessed and processed via xarray', 'data_product': 'RAPID vertical streamfunction time series', 'program': 'RAPID', 'license': 'CC-BY 4.0', 'featureType': 'timeSeries', 'Conventions': 'CF-1.8, ACDD-1.3', 'time_coverage_start': '2004-04-01', 'time_coverage_end': '2023-12-31', 'platform': 'Mooring array', 'summary': 'RAPID 26N transport estimates dataset', 'contributor_name': 'Ben Moat, Ben Moat', 'contributor_role': 'creator, PI', 'contributor_email': 'ben.moat@noc.ac.uk, ben.moat@noc.ac.uk', 'contributor_id': ', ', 'contributing_institutions': 'National Oceanography Centre\\xa0(Southampton) (UK)', 'contributing_institutions_vocabulary': 'https://edmo.seadatanet.org/report/17', 'contributing_institutions_role': '', 'contributing_institutions_role_vocabulary': ''}\n"
     ]
    },
    {
     "name": "stderr",
     "output_type": "stream",
     "text": [
      "20250423T135043 DEBUG    normalize_and_add_vocabulary Normalized 'platform': 'Mooring array' → 'mooring'\n"
     ]
    },
    {
     "name": "stderr",
     "output_type": "stream",
     "text": [
      "20250423T135043 DEBUG    normalize_and_add_vocabulary Added vocabulary for 'platform': https://vocab.nerc.ac.uk/collection/L06/\n"
     ]
    },
    {
     "name": "stderr",
     "output_type": "stream",
     "text": [
      "20250423T135043 DEBUG    normalize_and_add_vocabulary Added vocabulary for 'featureType': https://cfconventions.org/cf-conventions/v1.6.0/cf-conventions.html#_features_and_feature_types\n"
     ]
    },
    {
     "name": "stderr",
     "output_type": "stream",
     "text": [
      "20250423T135043 DEBUG    standardise_array Standardising ts_gridded.nc for RAPID\n"
     ]
    },
    {
     "name": "stderr",
     "output_type": "stream",
     "text": [
      "20250423T135043 DEBUG    merge_metadata_aliases Renaming key 'Title' → 'title'\n"
     ]
    },
    {
     "name": "stderr",
     "output_type": "stream",
     "text": [
      "20250423T135043 DEBUG    merge_metadata_aliases Renaming key 'Institution' → 'institution'\n"
     ]
    },
    {
     "name": "stderr",
     "output_type": "stream",
     "text": [
      "20250423T135043 DEBUG    merge_metadata_aliases Renaming key 'Website' → 'web_link'\n"
     ]
    },
    {
     "name": "stderr",
     "output_type": "stream",
     "text": [
      "20250423T135043 DEBUG    merge_metadata_aliases Renaming key 'Acknowledgement' → 'acknowledgement'\n"
     ]
    },
    {
     "name": "stderr",
     "output_type": "stream",
     "text": [
      "20250423T135043 DEBUG    merge_metadata_aliases Renaming key 'Created_by' → 'creator_name'\n"
     ]
    },
    {
     "name": "stderr",
     "output_type": "stream",
     "text": [
      "20250423T135043 DEBUG    merge_metadata_aliases Renaming key 'Creation_date' → 'date_created'\n"
     ]
    },
    {
     "name": "stderr",
     "output_type": "stream",
     "text": [
      "20250423T135043 DEBUG    merge_metadata_aliases Renaming key 'Principle_investigator' → 'principal_investigator'\n"
     ]
    },
    {
     "name": "stderr",
     "output_type": "stream",
     "text": [
      "20250423T135043 DEBUG    merge_metadata_aliases Renaming key 'Principle_investigator_email' → 'principal_investigator_email'\n"
     ]
    },
    {
     "name": "stderr",
     "output_type": "stream",
     "text": [
      "20250423T135043 DEBUG    merge_metadata_aliases Renaming key 'DOI' → 'doi'\n"
     ]
    },
    {
     "name": "stderr",
     "output_type": "stream",
     "text": [
      "20250423T135043 DEBUG    merge_metadata_aliases Conflict for 'web_link' from 'web_link'; keeping first value\n"
     ]
    },
    {
     "name": "stderr",
     "output_type": "stream",
     "text": [
      "20250423T135043 DEBUG    merge_metadata_aliases Renaming key 'note' → 'comment'\n"
     ]
    },
    {
     "name": "stderr",
     "output_type": "stream",
     "text": [
      "20250423T135043 DEBUG    merge_metadata_aliases Renaming key 'weblink' → 'web_link'\n"
     ]
    },
    {
     "name": "stderr",
     "output_type": "stream",
     "text": [
      "20250423T135043 DEBUG    merge_metadata_aliases Conflict for 'web_link' from 'weblink'; keeping first value\n"
     ]
    },
    {
     "name": "stderr",
     "output_type": "stream",
     "text": [
      "20250423T135043 DEBUG    merge_metadata_aliases Conflict for 'comment' from 'comment'; keeping first value\n"
     ]
    },
    {
     "name": "stderr",
     "output_type": "stream",
     "text": [
      "20250423T135043 DEBUG    merge_metadata_aliases Conflict for 'acknowledgement' from 'acknowledgement'; keeping first value\n"
     ]
    },
    {
     "name": "stderr",
     "output_type": "stream",
     "text": [
      "20250423T135043 DEBUG    merge_metadata_aliases Renaming key 'platform_type' → 'platform'\n"
     ]
    },
    {
     "name": "stderr",
     "output_type": "stream",
     "text": [
      "20250423T135043 DEBUG    merge_metadata_aliases Skipped duplicate (identical) key 'creator_name' → 'creator_name'\n"
     ]
    },
    {
     "name": "stderr",
     "output_type": "stream",
     "text": [
      "20250423T135043 DEBUG    merge_metadata_aliases Conflict for 'institution' from 'institution'; keeping first value\n"
     ]
    },
    {
     "name": "stderr",
     "output_type": "stream",
     "text": [
      "20250423T135043 DEBUG    merge_metadata_aliases Conflict for 'doi' from 'doi'; keeping first value\n"
     ]
    },
    {
     "name": "stderr",
     "output_type": "stream",
     "text": [
      "20250423T135043 DEBUG    _consolidate_contributors Starting _consolidate_contributors with attrs: {'title': 'RAPID streamfunction', 'institution': 'National Oceanography Centre,UK', 'web_link': 'http://www.rapid.ac.uk/', 'acknowledgement': 'The RAPID 26N AMOC monitoring project is funded by the Natural Environment Research Council and data is freely available from www.rapid.ac.uk', 'creator_name': 'Ben Moat', 'date_created': '17-Sep-2024', 'principal_investigator': 'Ben Moat', 'principal_investigator_email': 'ben.moat@noc.ac.uk', 'doi': 'doi: 10.5285/223b34a32dc5c945e0637086abc0f274', 'source_file': 'ts_gridded.nc', 'source_path': '/home/runner/work/amocarray/amocarray/data/ts_gridded.nc', 'description': 'RAPID 26N transport estimates dataset', 'project': 'RAPID-AMOC 26°N array', 'comment': 'Dataset accessed and processed via xarray', 'data_product': 'RAPID gridded temperature and salinity', 'program': 'RAPID', 'license': 'CC-BY 4.0', 'featureType': 'timeSeries', 'Conventions': 'CF-1.8, ACDD-1.3', 'time_coverage_start': '2004-04-01', 'time_coverage_end': '2023-12-31', 'platform': 'Mooring array', 'creator_email': 'ben.moat@noc.ac.uk', 'summary': 'RAPID 26N transport estimates dataset'}\n"
     ]
    },
    {
     "name": "stderr",
     "output_type": "stream",
     "text": [
      "20250423T135043 DEBUG    _consolidate_contributors Email buckets: {'principal_investigator_email': ['ben.moat@noc.ac.uk'], 'creator_email': ['ben.moat@noc.ac.uk']}\n"
     ]
    },
    {
     "name": "stderr",
     "output_type": "stream",
     "text": [
      "20250423T135043 DEBUG    _consolidate_contributors URL buckets: {}\n"
     ]
    },
    {
     "name": "stderr",
     "output_type": "stream",
     "text": [
      "20250423T135043 DEBUG    _consolidate_contributors Names: ['Ben Moat', 'Ben Moat']; Roles: ['creator', 'PI']; Sources: ['creator_name', 'principal_investigator']\n"
     ]
    },
    {
     "name": "stderr",
     "output_type": "stream",
     "text": [
      "20250423T135043 DEBUG    _consolidate_contributors Set contributor_name='Ben Moat, Ben Moat', contributor_role='creator, PI'\n"
     ]
    },
    {
     "name": "stderr",
     "output_type": "stream",
     "text": [
      "20250423T135043 DEBUG    _consolidate_contributors Aligned contributor_email='ben.moat@noc.ac.uk, ben.moat@noc.ac.uk'\n"
     ]
    },
    {
     "name": "stderr",
     "output_type": "stream",
     "text": [
      "20250423T135043 DEBUG    _consolidate_contributors Aligned contributor_id=', '\n"
     ]
    },
    {
     "name": "stderr",
     "output_type": "stream",
     "text": [
      "20250423T135043 DEBUG    _consolidate_contributors Matched institution 'National Oceanography Centre\\xa0(Southampton) (UK)' → 'national oceanography centre (southampton) (uk)' → 'https://edmo.seadatanet.org/report/17'\n"
     ]
    },
    {
     "name": "stderr",
     "output_type": "stream",
     "text": [
      "20250423T135043 DEBUG    _consolidate_contributors Finished _consolidate_contributors: {'title': 'RAPID streamfunction', 'web_link': 'http://www.rapid.ac.uk/', 'acknowledgement': 'The RAPID 26N AMOC monitoring project is funded by the Natural Environment Research Council and data is freely available from www.rapid.ac.uk', 'date_created': '17-Sep-2024', 'doi': 'doi: 10.5285/223b34a32dc5c945e0637086abc0f274', 'source_file': 'ts_gridded.nc', 'source_path': '/home/runner/work/amocarray/amocarray/data/ts_gridded.nc', 'description': 'RAPID 26N transport estimates dataset', 'project': 'RAPID-AMOC 26°N array', 'comment': 'Dataset accessed and processed via xarray', 'data_product': 'RAPID gridded temperature and salinity', 'program': 'RAPID', 'license': 'CC-BY 4.0', 'featureType': 'timeSeries', 'Conventions': 'CF-1.8, ACDD-1.3', 'time_coverage_start': '2004-04-01', 'time_coverage_end': '2023-12-31', 'platform': 'Mooring array', 'summary': 'RAPID 26N transport estimates dataset', 'contributor_name': 'Ben Moat, Ben Moat', 'contributor_role': 'creator, PI', 'contributor_email': 'ben.moat@noc.ac.uk, ben.moat@noc.ac.uk', 'contributor_id': ', ', 'contributing_institutions': 'National Oceanography Centre\\xa0(Southampton) (UK)', 'contributing_institutions_vocabulary': 'https://edmo.seadatanet.org/report/17', 'contributing_institutions_role': '', 'contributing_institutions_role_vocabulary': ''}\n"
     ]
    },
    {
     "name": "stderr",
     "output_type": "stream",
     "text": [
      "20250423T135043 DEBUG    normalize_and_add_vocabulary Normalized 'platform': 'Mooring array' → 'mooring'\n"
     ]
    },
    {
     "name": "stderr",
     "output_type": "stream",
     "text": [
      "20250423T135043 DEBUG    normalize_and_add_vocabulary Added vocabulary for 'platform': https://vocab.nerc.ac.uk/collection/L06/\n"
     ]
    },
    {
     "name": "stderr",
     "output_type": "stream",
     "text": [
      "20250423T135043 DEBUG    normalize_and_add_vocabulary Added vocabulary for 'featureType': https://cfconventions.org/cf-conventions/v1.6.0/cf-conventions.html#_features_and_feature_types\n"
     ]
    },
    {
     "name": "stderr",
     "output_type": "stream",
     "text": [
      "20250423T135043 DEBUG    standardise_array Standardising moc_transports.nc for RAPID\n"
     ]
    },
    {
     "name": "stderr",
     "output_type": "stream",
     "text": [
      "20250423T135043 DEBUG    merge_metadata_aliases Renaming key 'Title' → 'title'\n"
     ]
    },
    {
     "name": "stderr",
     "output_type": "stream",
     "text": [
      "20250423T135043 DEBUG    merge_metadata_aliases Renaming key 'Institution' → 'institution'\n"
     ]
    },
    {
     "name": "stderr",
     "output_type": "stream",
     "text": [
      "20250423T135043 DEBUG    merge_metadata_aliases Renaming key 'Website' → 'web_link'\n"
     ]
    },
    {
     "name": "stderr",
     "output_type": "stream",
     "text": [
      "20250423T135043 DEBUG    merge_metadata_aliases Renaming key 'Acknowledgement' → 'acknowledgement'\n"
     ]
    },
    {
     "name": "stderr",
     "output_type": "stream",
     "text": [
      "20250423T135043 DEBUG    merge_metadata_aliases Renaming key 'Created_by' → 'creator_name'\n"
     ]
    },
    {
     "name": "stderr",
     "output_type": "stream",
     "text": [
      "20250423T135043 DEBUG    merge_metadata_aliases Renaming key 'Creation_date' → 'date_created'\n"
     ]
    },
    {
     "name": "stderr",
     "output_type": "stream",
     "text": [
      "20250423T135043 DEBUG    merge_metadata_aliases Renaming key 'Principle_investigator' → 'principal_investigator'\n"
     ]
    },
    {
     "name": "stderr",
     "output_type": "stream",
     "text": [
      "20250423T135043 DEBUG    merge_metadata_aliases Renaming key 'Principle_investigator_email' → 'principal_investigator_email'\n"
     ]
    },
    {
     "name": "stderr",
     "output_type": "stream",
     "text": [
      "20250423T135043 DEBUG    merge_metadata_aliases Renaming key 'DOI' → 'doi'\n"
     ]
    },
    {
     "name": "stderr",
     "output_type": "stream",
     "text": [
      "20250423T135043 DEBUG    merge_metadata_aliases Conflict for 'web_link' from 'web_link'; keeping first value\n"
     ]
    },
    {
     "name": "stderr",
     "output_type": "stream",
     "text": [
      "20250423T135043 DEBUG    merge_metadata_aliases Renaming key 'note' → 'comment'\n"
     ]
    },
    {
     "name": "stderr",
     "output_type": "stream",
     "text": [
      "20250423T135043 DEBUG    merge_metadata_aliases Renaming key 'weblink' → 'web_link'\n"
     ]
    },
    {
     "name": "stderr",
     "output_type": "stream",
     "text": [
      "20250423T135043 DEBUG    merge_metadata_aliases Conflict for 'web_link' from 'weblink'; keeping first value\n"
     ]
    },
    {
     "name": "stderr",
     "output_type": "stream",
     "text": [
      "20250423T135043 DEBUG    merge_metadata_aliases Conflict for 'comment' from 'comment'; keeping first value\n"
     ]
    },
    {
     "name": "stderr",
     "output_type": "stream",
     "text": [
      "20250423T135043 DEBUG    merge_metadata_aliases Skipped duplicate (identical) key 'acknowledgement' → 'acknowledgement'\n"
     ]
    },
    {
     "name": "stderr",
     "output_type": "stream",
     "text": [
      "20250423T135043 DEBUG    merge_metadata_aliases Renaming key 'platform_type' → 'platform'\n"
     ]
    },
    {
     "name": "stderr",
     "output_type": "stream",
     "text": [
      "20250423T135043 DEBUG    merge_metadata_aliases Skipped duplicate (identical) key 'creator_name' → 'creator_name'\n"
     ]
    },
    {
     "name": "stderr",
     "output_type": "stream",
     "text": [
      "20250423T135043 DEBUG    merge_metadata_aliases Conflict for 'institution' from 'institution'; keeping first value\n"
     ]
    },
    {
     "name": "stderr",
     "output_type": "stream",
     "text": [
      "20250423T135043 DEBUG    merge_metadata_aliases Conflict for 'doi' from 'doi'; keeping first value\n"
     ]
    },
    {
     "name": "stderr",
     "output_type": "stream",
     "text": [
      "20250423T135043 DEBUG    _consolidate_contributors Starting _consolidate_contributors with attrs: {'title': 'RAPID MOC timeseries', 'institution': 'National Oceanography Centre,UK', 'web_link': 'http://www.rapid.ac.uk/', 'acknowledgement': 'The RAPID-MOC monitoring project is funded by the Natural Environment Research Council and data is freely available from www.rapid.ac.uk/', 'creator_name': 'Ben Moat', 'date_created': '17-Sep-2024', 'principal_investigator': 'Ben Moat', 'principal_investigator_email': 'ben.moat@noc.ac.uk', 'doi': 'doi: 10.5285/223b34a32dc5c945e0637086abc0f274', 'source_file': 'moc_transports.nc', 'source_path': '/home/runner/work/amocarray/amocarray/data/moc_transports.nc', 'description': 'RAPID 26N transport estimates dataset', 'project': 'RAPID-AMOC 26°N array', 'comment': 'Dataset accessed and processed via xarray', 'data_product': 'RAPID layer transport time series', 'program': 'RAPID', 'license': 'CC-BY 4.0', 'featureType': 'timeSeries', 'Conventions': 'CF-1.8, ACDD-1.3', 'time_coverage_start': '2004-04-01', 'time_coverage_end': '2023-12-31', 'platform': 'Mooring array', 'creator_email': 'ben.moat@noc.ac.uk', 'summary': 'RAPID 26N transport estimates dataset'}\n"
     ]
    },
    {
     "name": "stderr",
     "output_type": "stream",
     "text": [
      "20250423T135043 DEBUG    _consolidate_contributors Email buckets: {'principal_investigator_email': ['ben.moat@noc.ac.uk'], 'creator_email': ['ben.moat@noc.ac.uk']}\n"
     ]
    },
    {
     "name": "stderr",
     "output_type": "stream",
     "text": [
      "20250423T135043 DEBUG    _consolidate_contributors URL buckets: {}\n"
     ]
    },
    {
     "name": "stderr",
     "output_type": "stream",
     "text": [
      "20250423T135043 DEBUG    _consolidate_contributors Names: ['Ben Moat', 'Ben Moat']; Roles: ['creator', 'PI']; Sources: ['creator_name', 'principal_investigator']\n"
     ]
    },
    {
     "name": "stderr",
     "output_type": "stream",
     "text": [
      "20250423T135043 DEBUG    _consolidate_contributors Set contributor_name='Ben Moat, Ben Moat', contributor_role='creator, PI'\n"
     ]
    },
    {
     "name": "stderr",
     "output_type": "stream",
     "text": [
      "20250423T135043 DEBUG    _consolidate_contributors Aligned contributor_email='ben.moat@noc.ac.uk, ben.moat@noc.ac.uk'\n"
     ]
    },
    {
     "name": "stderr",
     "output_type": "stream",
     "text": [
      "20250423T135043 DEBUG    _consolidate_contributors Aligned contributor_id=', '\n"
     ]
    },
    {
     "name": "stderr",
     "output_type": "stream",
     "text": [
      "20250423T135043 DEBUG    _consolidate_contributors Matched institution 'National Oceanography Centre\\xa0(Southampton) (UK)' → 'national oceanography centre (southampton) (uk)' → 'https://edmo.seadatanet.org/report/17'\n"
     ]
    },
    {
     "name": "stderr",
     "output_type": "stream",
     "text": [
      "20250423T135043 DEBUG    _consolidate_contributors Finished _consolidate_contributors: {'title': 'RAPID MOC timeseries', 'web_link': 'http://www.rapid.ac.uk/', 'acknowledgement': 'The RAPID-MOC monitoring project is funded by the Natural Environment Research Council and data is freely available from www.rapid.ac.uk/', 'date_created': '17-Sep-2024', 'doi': 'doi: 10.5285/223b34a32dc5c945e0637086abc0f274', 'source_file': 'moc_transports.nc', 'source_path': '/home/runner/work/amocarray/amocarray/data/moc_transports.nc', 'description': 'RAPID 26N transport estimates dataset', 'project': 'RAPID-AMOC 26°N array', 'comment': 'Dataset accessed and processed via xarray', 'data_product': 'RAPID layer transport time series', 'program': 'RAPID', 'license': 'CC-BY 4.0', 'featureType': 'timeSeries', 'Conventions': 'CF-1.8, ACDD-1.3', 'time_coverage_start': '2004-04-01', 'time_coverage_end': '2023-12-31', 'platform': 'Mooring array', 'summary': 'RAPID 26N transport estimates dataset', 'contributor_name': 'Ben Moat, Ben Moat', 'contributor_role': 'creator, PI', 'contributor_email': 'ben.moat@noc.ac.uk, ben.moat@noc.ac.uk', 'contributor_id': ', ', 'contributing_institutions': 'National Oceanography Centre\\xa0(Southampton) (UK)', 'contributing_institutions_vocabulary': 'https://edmo.seadatanet.org/report/17', 'contributing_institutions_role': '', 'contributing_institutions_role_vocabulary': ''}\n"
     ]
    },
    {
     "name": "stderr",
     "output_type": "stream",
     "text": [
      "20250423T135043 DEBUG    normalize_and_add_vocabulary Normalized 'platform': 'Mooring array' → 'mooring'\n"
     ]
    },
    {
     "name": "stderr",
     "output_type": "stream",
     "text": [
      "20250423T135043 DEBUG    normalize_and_add_vocabulary Added vocabulary for 'platform': https://vocab.nerc.ac.uk/collection/L06/\n"
     ]
    },
    {
     "name": "stderr",
     "output_type": "stream",
     "text": [
      "20250423T135043 DEBUG    normalize_and_add_vocabulary Added vocabulary for 'featureType': https://cfconventions.org/cf-conventions/v1.6.0/cf-conventions.html#_features_and_feature_types\n"
     ]
    },
    {
     "name": "stdout",
     "output_type": "stream",
     "text": [
      "Summary for array 'rapid':\n",
      "Total datasets loaded: 3\n",
      "\n",
      "Dataset 1:\n",
      "  Source file: moc_vertical.nc\n",
      "  Time coverage: TIME variable not found\n",
      "  Dimensions:\n",
      "    - time: 13779\n",
      "    - depth: 307\n",
      "  Variables:\n",
      "    - stream_function_mar: shape (307, 13779)\n",
      "\n",
      "Dataset 2:\n",
      "  Source file: ts_gridded.nc\n",
      "  Time coverage: TIME variable not found\n",
      "  Dimensions:\n",
      "    - time: 13779\n",
      "    - depth: 242\n",
      "  Variables:\n",
      "    - pressure: shape (242,)\n",
      "    - TG_west: shape (242, 13779)\n",
      "    - SG_west: shape (242, 13779)\n",
      "    - TG_wb3: shape (242, 13779)\n",
      "    - SG_wb3: shape (242, 13779)\n",
      "    - TG_east: shape (242, 13779)\n",
      "    - SG_east: shape (242, 13779)\n",
      "    - TG_marwest: shape (242, 13779)\n",
      "    - SG_marwest: shape (242, 13779)\n",
      "    - TG_mareast: shape (242, 13779)\n",
      "    - SG_mareast: shape (242, 13779)\n",
      "    - TG_west_flag: shape (242, 13779)\n",
      "    - SG_west_flag: shape (242, 13779)\n",
      "    - TG_east_flag: shape (242, 13779)\n",
      "    - SG_east_flag: shape (242, 13779)\n",
      "    - TG_marwest_flag: shape (242, 13779)\n",
      "    - SG_marwest_flag: shape (242, 13779)\n",
      "    - TG_mareast_flag: shape (242, 13779)\n",
      "    - SG_mareast_flag: shape (242, 13779)\n",
      "\n",
      "Dataset 3:\n",
      "  Source file: moc_transports.nc\n",
      "  Time coverage: TIME variable not found\n",
      "  Dimensions:\n",
      "    - time: 13779\n",
      "  Variables:\n",
      "    - t_therm10: shape (13779,)\n",
      "    - t_aiw10: shape (13779,)\n",
      "    - t_ud10: shape (13779,)\n",
      "    - t_ld10: shape (13779,)\n",
      "    - t_bw10: shape (13779,)\n",
      "    - t_gs10: shape (13779,)\n",
      "    - t_ek10: shape (13779,)\n",
      "    - t_umo10: shape (13779,)\n",
      "    - moc_mar_hc10: shape (13779,)\n",
      "\n"
     ]
    },
    {
     "data": {
      "text/html": [
       "<div><svg style=\"position: absolute; width: 0; height: 0; overflow: hidden\">\n",
       "<defs>\n",
       "<symbol id=\"icon-database\" viewBox=\"0 0 32 32\">\n",
       "<path d=\"M16 0c-8.837 0-16 2.239-16 5v4c0 2.761 7.163 5 16 5s16-2.239 16-5v-4c0-2.761-7.163-5-16-5z\"></path>\n",
       "<path d=\"M16 17c-8.837 0-16-2.239-16-5v6c0 2.761 7.163 5 16 5s16-2.239 16-5v-6c0 2.761-7.163 5-16 5z\"></path>\n",
       "<path d=\"M16 26c-8.837 0-16-2.239-16-5v6c0 2.761 7.163 5 16 5s16-2.239 16-5v-6c0 2.761-7.163 5-16 5z\"></path>\n",
       "</symbol>\n",
       "<symbol id=\"icon-file-text2\" viewBox=\"0 0 32 32\">\n",
       "<path d=\"M28.681 7.159c-0.694-0.947-1.662-2.053-2.724-3.116s-2.169-2.030-3.116-2.724c-1.612-1.182-2.393-1.319-2.841-1.319h-15.5c-1.378 0-2.5 1.121-2.5 2.5v27c0 1.378 1.122 2.5 2.5 2.5h23c1.378 0 2.5-1.122 2.5-2.5v-19.5c0-0.448-0.137-1.23-1.319-2.841zM24.543 5.457c0.959 0.959 1.712 1.825 2.268 2.543h-4.811v-4.811c0.718 0.556 1.584 1.309 2.543 2.268zM28 29.5c0 0.271-0.229 0.5-0.5 0.5h-23c-0.271 0-0.5-0.229-0.5-0.5v-27c0-0.271 0.229-0.5 0.5-0.5 0 0 15.499-0 15.5 0v7c0 0.552 0.448 1 1 1h7v19.5z\"></path>\n",
       "<path d=\"M23 26h-14c-0.552 0-1-0.448-1-1s0.448-1 1-1h14c0.552 0 1 0.448 1 1s-0.448 1-1 1z\"></path>\n",
       "<path d=\"M23 22h-14c-0.552 0-1-0.448-1-1s0.448-1 1-1h14c0.552 0 1 0.448 1 1s-0.448 1-1 1z\"></path>\n",
       "<path d=\"M23 18h-14c-0.552 0-1-0.448-1-1s0.448-1 1-1h14c0.552 0 1 0.448 1 1s-0.448 1-1 1z\"></path>\n",
       "</symbol>\n",
       "</defs>\n",
       "</svg>\n",
       "<style>/* CSS stylesheet for displaying xarray objects in jupyterlab.\n",
       " *\n",
       " */\n",
       "\n",
       ":root {\n",
       "  --xr-font-color0: var(--jp-content-font-color0, rgba(0, 0, 0, 1));\n",
       "  --xr-font-color2: var(--jp-content-font-color2, rgba(0, 0, 0, 0.54));\n",
       "  --xr-font-color3: var(--jp-content-font-color3, rgba(0, 0, 0, 0.38));\n",
       "  --xr-border-color: var(--jp-border-color2, #e0e0e0);\n",
       "  --xr-disabled-color: var(--jp-layout-color3, #bdbdbd);\n",
       "  --xr-background-color: var(--jp-layout-color0, white);\n",
       "  --xr-background-color-row-even: var(--jp-layout-color1, white);\n",
       "  --xr-background-color-row-odd: var(--jp-layout-color2, #eeeeee);\n",
       "}\n",
       "\n",
       "html[theme=\"dark\"],\n",
       "html[data-theme=\"dark\"],\n",
       "body[data-theme=\"dark\"],\n",
       "body.vscode-dark {\n",
       "  --xr-font-color0: rgba(255, 255, 255, 1);\n",
       "  --xr-font-color2: rgba(255, 255, 255, 0.54);\n",
       "  --xr-font-color3: rgba(255, 255, 255, 0.38);\n",
       "  --xr-border-color: #1f1f1f;\n",
       "  --xr-disabled-color: #515151;\n",
       "  --xr-background-color: #111111;\n",
       "  --xr-background-color-row-even: #111111;\n",
       "  --xr-background-color-row-odd: #313131;\n",
       "}\n",
       "\n",
       ".xr-wrap {\n",
       "  display: block !important;\n",
       "  min-width: 300px;\n",
       "  max-width: 700px;\n",
       "}\n",
       "\n",
       ".xr-text-repr-fallback {\n",
       "  /* fallback to plain text repr when CSS is not injected (untrusted notebook) */\n",
       "  display: none;\n",
       "}\n",
       "\n",
       ".xr-header {\n",
       "  padding-top: 6px;\n",
       "  padding-bottom: 6px;\n",
       "  margin-bottom: 4px;\n",
       "  border-bottom: solid 1px var(--xr-border-color);\n",
       "}\n",
       "\n",
       ".xr-header > div,\n",
       ".xr-header > ul {\n",
       "  display: inline;\n",
       "  margin-top: 0;\n",
       "  margin-bottom: 0;\n",
       "}\n",
       "\n",
       ".xr-obj-type,\n",
       ".xr-array-name {\n",
       "  margin-left: 2px;\n",
       "  margin-right: 10px;\n",
       "}\n",
       "\n",
       ".xr-obj-type {\n",
       "  color: var(--xr-font-color2);\n",
       "}\n",
       "\n",
       ".xr-sections {\n",
       "  padding-left: 0 !important;\n",
       "  display: grid;\n",
       "  grid-template-columns: 150px auto auto 1fr 0 20px 0 20px;\n",
       "}\n",
       "\n",
       ".xr-section-item {\n",
       "  display: contents;\n",
       "}\n",
       "\n",
       ".xr-section-item input {\n",
       "  display: inline-block;\n",
       "  opacity: 0;\n",
       "  height: 0;\n",
       "}\n",
       "\n",
       ".xr-section-item input + label {\n",
       "  color: var(--xr-disabled-color);\n",
       "}\n",
       "\n",
       ".xr-section-item input:enabled + label {\n",
       "  cursor: pointer;\n",
       "  color: var(--xr-font-color2);\n",
       "}\n",
       "\n",
       ".xr-section-item input:focus + label {\n",
       "  border: 2px solid var(--xr-font-color0);\n",
       "}\n",
       "\n",
       ".xr-section-item input:enabled + label:hover {\n",
       "  color: var(--xr-font-color0);\n",
       "}\n",
       "\n",
       ".xr-section-summary {\n",
       "  grid-column: 1;\n",
       "  color: var(--xr-font-color2);\n",
       "  font-weight: 500;\n",
       "}\n",
       "\n",
       ".xr-section-summary > span {\n",
       "  display: inline-block;\n",
       "  padding-left: 0.5em;\n",
       "}\n",
       "\n",
       ".xr-section-summary-in:disabled + label {\n",
       "  color: var(--xr-font-color2);\n",
       "}\n",
       "\n",
       ".xr-section-summary-in + label:before {\n",
       "  display: inline-block;\n",
       "  content: \"►\";\n",
       "  font-size: 11px;\n",
       "  width: 15px;\n",
       "  text-align: center;\n",
       "}\n",
       "\n",
       ".xr-section-summary-in:disabled + label:before {\n",
       "  color: var(--xr-disabled-color);\n",
       "}\n",
       "\n",
       ".xr-section-summary-in:checked + label:before {\n",
       "  content: \"▼\";\n",
       "}\n",
       "\n",
       ".xr-section-summary-in:checked + label > span {\n",
       "  display: none;\n",
       "}\n",
       "\n",
       ".xr-section-summary,\n",
       ".xr-section-inline-details {\n",
       "  padding-top: 4px;\n",
       "  padding-bottom: 4px;\n",
       "}\n",
       "\n",
       ".xr-section-inline-details {\n",
       "  grid-column: 2 / -1;\n",
       "}\n",
       "\n",
       ".xr-section-details {\n",
       "  display: none;\n",
       "  grid-column: 1 / -1;\n",
       "  margin-bottom: 5px;\n",
       "}\n",
       "\n",
       ".xr-section-summary-in:checked ~ .xr-section-details {\n",
       "  display: contents;\n",
       "}\n",
       "\n",
       ".xr-array-wrap {\n",
       "  grid-column: 1 / -1;\n",
       "  display: grid;\n",
       "  grid-template-columns: 20px auto;\n",
       "}\n",
       "\n",
       ".xr-array-wrap > label {\n",
       "  grid-column: 1;\n",
       "  vertical-align: top;\n",
       "}\n",
       "\n",
       ".xr-preview {\n",
       "  color: var(--xr-font-color3);\n",
       "}\n",
       "\n",
       ".xr-array-preview,\n",
       ".xr-array-data {\n",
       "  padding: 0 5px !important;\n",
       "  grid-column: 2;\n",
       "}\n",
       "\n",
       ".xr-array-data,\n",
       ".xr-array-in:checked ~ .xr-array-preview {\n",
       "  display: none;\n",
       "}\n",
       "\n",
       ".xr-array-in:checked ~ .xr-array-data,\n",
       ".xr-array-preview {\n",
       "  display: inline-block;\n",
       "}\n",
       "\n",
       ".xr-dim-list {\n",
       "  display: inline-block !important;\n",
       "  list-style: none;\n",
       "  padding: 0 !important;\n",
       "  margin: 0;\n",
       "}\n",
       "\n",
       ".xr-dim-list li {\n",
       "  display: inline-block;\n",
       "  padding: 0;\n",
       "  margin: 0;\n",
       "}\n",
       "\n",
       ".xr-dim-list:before {\n",
       "  content: \"(\";\n",
       "}\n",
       "\n",
       ".xr-dim-list:after {\n",
       "  content: \")\";\n",
       "}\n",
       "\n",
       ".xr-dim-list li:not(:last-child):after {\n",
       "  content: \",\";\n",
       "  padding-right: 5px;\n",
       "}\n",
       "\n",
       ".xr-has-index {\n",
       "  font-weight: bold;\n",
       "}\n",
       "\n",
       ".xr-var-list,\n",
       ".xr-var-item {\n",
       "  display: contents;\n",
       "}\n",
       "\n",
       ".xr-var-item > div,\n",
       ".xr-var-item label,\n",
       ".xr-var-item > .xr-var-name span {\n",
       "  background-color: var(--xr-background-color-row-even);\n",
       "  margin-bottom: 0;\n",
       "}\n",
       "\n",
       ".xr-var-item > .xr-var-name:hover span {\n",
       "  padding-right: 5px;\n",
       "}\n",
       "\n",
       ".xr-var-list > li:nth-child(odd) > div,\n",
       ".xr-var-list > li:nth-child(odd) > label,\n",
       ".xr-var-list > li:nth-child(odd) > .xr-var-name span {\n",
       "  background-color: var(--xr-background-color-row-odd);\n",
       "}\n",
       "\n",
       ".xr-var-name {\n",
       "  grid-column: 1;\n",
       "}\n",
       "\n",
       ".xr-var-dims {\n",
       "  grid-column: 2;\n",
       "}\n",
       "\n",
       ".xr-var-dtype {\n",
       "  grid-column: 3;\n",
       "  text-align: right;\n",
       "  color: var(--xr-font-color2);\n",
       "}\n",
       "\n",
       ".xr-var-preview {\n",
       "  grid-column: 4;\n",
       "}\n",
       "\n",
       ".xr-index-preview {\n",
       "  grid-column: 2 / 5;\n",
       "  color: var(--xr-font-color2);\n",
       "}\n",
       "\n",
       ".xr-var-name,\n",
       ".xr-var-dims,\n",
       ".xr-var-dtype,\n",
       ".xr-preview,\n",
       ".xr-attrs dt {\n",
       "  white-space: nowrap;\n",
       "  overflow: hidden;\n",
       "  text-overflow: ellipsis;\n",
       "  padding-right: 10px;\n",
       "}\n",
       "\n",
       ".xr-var-name:hover,\n",
       ".xr-var-dims:hover,\n",
       ".xr-var-dtype:hover,\n",
       ".xr-attrs dt:hover {\n",
       "  overflow: visible;\n",
       "  width: auto;\n",
       "  z-index: 1;\n",
       "}\n",
       "\n",
       ".xr-var-attrs,\n",
       ".xr-var-data,\n",
       ".xr-index-data {\n",
       "  display: none;\n",
       "  background-color: var(--xr-background-color) !important;\n",
       "  padding-bottom: 5px !important;\n",
       "}\n",
       "\n",
       ".xr-var-attrs-in:checked ~ .xr-var-attrs,\n",
       ".xr-var-data-in:checked ~ .xr-var-data,\n",
       ".xr-index-data-in:checked ~ .xr-index-data {\n",
       "  display: block;\n",
       "}\n",
       "\n",
       ".xr-var-data > table {\n",
       "  float: right;\n",
       "}\n",
       "\n",
       ".xr-var-name span,\n",
       ".xr-var-data,\n",
       ".xr-index-name div,\n",
       ".xr-index-data,\n",
       ".xr-attrs {\n",
       "  padding-left: 25px !important;\n",
       "}\n",
       "\n",
       ".xr-attrs,\n",
       ".xr-var-attrs,\n",
       ".xr-var-data,\n",
       ".xr-index-data {\n",
       "  grid-column: 1 / -1;\n",
       "}\n",
       "\n",
       "dl.xr-attrs {\n",
       "  padding: 0;\n",
       "  margin: 0;\n",
       "  display: grid;\n",
       "  grid-template-columns: 125px auto;\n",
       "}\n",
       "\n",
       ".xr-attrs dt,\n",
       ".xr-attrs dd {\n",
       "  padding: 0;\n",
       "  margin: 0;\n",
       "  float: left;\n",
       "  padding-right: 10px;\n",
       "  width: auto;\n",
       "}\n",
       "\n",
       ".xr-attrs dt {\n",
       "  font-weight: normal;\n",
       "  grid-column: 1;\n",
       "}\n",
       "\n",
       ".xr-attrs dt:hover span {\n",
       "  display: inline-block;\n",
       "  background: var(--xr-background-color);\n",
       "  padding-right: 10px;\n",
       "}\n",
       "\n",
       ".xr-attrs dd {\n",
       "  grid-column: 2;\n",
       "  white-space: pre-wrap;\n",
       "  word-break: break-all;\n",
       "}\n",
       "\n",
       ".xr-icon-database,\n",
       ".xr-icon-file-text2,\n",
       ".xr-no-icon {\n",
       "  display: inline-block;\n",
       "  vertical-align: middle;\n",
       "  width: 1em;\n",
       "  height: 1.5em !important;\n",
       "  stroke-width: 0;\n",
       "  stroke: currentColor;\n",
       "  fill: currentColor;\n",
       "}\n",
       "</style><pre class='xr-text-repr-fallback'>&lt;xarray.Dataset&gt; Size: 1MB\n",
       "Dimensions:       (TIME: 13779)\n",
       "Coordinates:\n",
       "  * TIME          (TIME) datetime64[ns] 110kB 2004-04-02 ... 2023-02-11\n",
       "Data variables:\n",
       "    t_therm10     (TIME) float64 110kB ...\n",
       "    t_aiw10       (TIME) float64 110kB ...\n",
       "    t_ud10        (TIME) float64 110kB ...\n",
       "    t_ld10        (TIME) float64 110kB ...\n",
       "    t_bw10        (TIME) float64 110kB ...\n",
       "    t_gs10        (TIME) float64 110kB ...\n",
       "    t_ek10        (TIME) float64 110kB ...\n",
       "    t_umo10       (TIME) float64 110kB ...\n",
       "    moc_mar_hc10  (TIME) float64 110kB ...\n",
       "Attributes: (12/29)\n",
       "    title:                                      RAPID MOC timeseries\n",
       "    platform:                                   mooring\n",
       "    platform_vocabulary:                        https://vocab.nerc.ac.uk/coll...\n",
       "    time_coverage_start:                        2004-04-01\n",
       "    time_coverage_end:                          2023-12-31\n",
       "    program:                                    RAPID\n",
       "    ...                                         ...\n",
       "    description:                                RAPID 26N transport estimates...\n",
       "    data_product:                               RAPID layer transport time se...\n",
       "    license:                                    CC-BY 4.0\n",
       "    Conventions:                                CF-1.8, ACDD-1.3\n",
       "    summary:                                    RAPID 26N transport estimates...\n",
       "    featureType_vocabulary:                     https://cfconventions.org/cf-...</pre><div class='xr-wrap' style='display:none'><div class='xr-header'><div class='xr-obj-type'>xarray.Dataset</div></div><ul class='xr-sections'><li class='xr-section-item'><input id='section-3b02d1c7-9393-4670-b146-1aa4eeb213e2' class='xr-section-summary-in' type='checkbox' disabled ><label for='section-3b02d1c7-9393-4670-b146-1aa4eeb213e2' class='xr-section-summary'  title='Expand/collapse section'>Dimensions:</label><div class='xr-section-inline-details'><ul class='xr-dim-list'><li><span class='xr-has-index'>TIME</span>: 13779</li></ul></div><div class='xr-section-details'></div></li><li class='xr-section-item'><input id='section-4334c58f-29cb-4f5e-95ad-24be087b1a93' class='xr-section-summary-in' type='checkbox'  checked><label for='section-4334c58f-29cb-4f5e-95ad-24be087b1a93' class='xr-section-summary' >Coordinates: <span>(1)</span></label><div class='xr-section-inline-details'></div><div class='xr-section-details'><ul class='xr-var-list'><li class='xr-var-item'><div class='xr-var-name'><span class='xr-has-index'>TIME</span></div><div class='xr-var-dims'>(TIME)</div><div class='xr-var-dtype'>datetime64[ns]</div><div class='xr-var-preview xr-preview'>2004-04-02 ... 2023-02-11</div><input id='attrs-a520df44-5dbb-4878-91d6-165a38bd6bcf' class='xr-var-attrs-in' type='checkbox' ><label for='attrs-a520df44-5dbb-4878-91d6-165a38bd6bcf' title='Show/Hide attributes'><svg class='icon xr-icon-file-text2'><use xlink:href='#icon-file-text2'></use></svg></label><input id='data-9921ab94-9084-4fc3-8617-2e99f4d1d3f8' class='xr-var-data-in' type='checkbox'><label for='data-9921ab94-9084-4fc3-8617-2e99f4d1d3f8' title='Show/Hide data repr'><svg class='icon xr-icon-database'><use xlink:href='#icon-database'></use></svg></label><div class='xr-var-attrs'><dl class='xr-attrs'><dt><span>long_name :</span></dt><dd>time in days</dd></dl></div><div class='xr-var-data'><pre>array([&#x27;2004-04-02T00:00:00.000000000&#x27;, &#x27;2004-04-02T12:00:00.000000000&#x27;,\n",
       "       &#x27;2004-04-03T00:00:00.000000000&#x27;, ..., &#x27;2023-02-10T00:00:00.000000000&#x27;,\n",
       "       &#x27;2023-02-10T12:00:00.000000000&#x27;, &#x27;2023-02-11T00:00:00.000000000&#x27;],\n",
       "      shape=(13779,), dtype=&#x27;datetime64[ns]&#x27;)</pre></div></li></ul></div></li><li class='xr-section-item'><input id='section-c9ab9a4c-7c2f-4e90-a52c-d7b3f3b1cef9' class='xr-section-summary-in' type='checkbox'  checked><label for='section-c9ab9a4c-7c2f-4e90-a52c-d7b3f3b1cef9' class='xr-section-summary' >Data variables: <span>(9)</span></label><div class='xr-section-inline-details'></div><div class='xr-section-details'><ul class='xr-var-list'><li class='xr-var-item'><div class='xr-var-name'><span>t_therm10</span></div><div class='xr-var-dims'>(TIME)</div><div class='xr-var-dtype'>float64</div><div class='xr-var-preview xr-preview'>...</div><input id='attrs-f178bffb-1991-492a-8b98-28ae6da091ce' class='xr-var-attrs-in' type='checkbox' ><label for='attrs-f178bffb-1991-492a-8b98-28ae6da091ce' title='Show/Hide attributes'><svg class='icon xr-icon-file-text2'><use xlink:href='#icon-file-text2'></use></svg></label><input id='data-2bd787f7-b32f-408b-a7d3-a870ac570399' class='xr-var-data-in' type='checkbox'><label for='data-2bd787f7-b32f-408b-a7d3-a870ac570399' title='Show/Hide data repr'><svg class='icon xr-icon-database'><use xlink:href='#icon-database'></use></svg></label><div class='xr-var-attrs'><dl class='xr-attrs'><dt><span>long_name :</span></dt><dd>Transport</dd><dt><span>units :</span></dt><dd>Sv</dd><dt><span>description :</span></dt><dd>Thermocline recirculation 0-800m</dd><dt><span>standard_name :</span></dt><dd>Transport</dd></dl></div><div class='xr-var-data'><pre>[13779 values with dtype=float64]</pre></div></li><li class='xr-var-item'><div class='xr-var-name'><span>t_aiw10</span></div><div class='xr-var-dims'>(TIME)</div><div class='xr-var-dtype'>float64</div><div class='xr-var-preview xr-preview'>...</div><input id='attrs-b9d9d8d9-0761-417a-8731-21e242e86e85' class='xr-var-attrs-in' type='checkbox' ><label for='attrs-b9d9d8d9-0761-417a-8731-21e242e86e85' title='Show/Hide attributes'><svg class='icon xr-icon-file-text2'><use xlink:href='#icon-file-text2'></use></svg></label><input id='data-3d584d82-74b0-409d-9e26-1c006b859575' class='xr-var-data-in' type='checkbox'><label for='data-3d584d82-74b0-409d-9e26-1c006b859575' title='Show/Hide data repr'><svg class='icon xr-icon-database'><use xlink:href='#icon-database'></use></svg></label><div class='xr-var-attrs'><dl class='xr-attrs'><dt><span>long_name :</span></dt><dd>Transport</dd><dt><span>units :</span></dt><dd>Sv</dd><dt><span>description :</span></dt><dd>Intermediate water 800-1100m</dd><dt><span>standard_name :</span></dt><dd>Transport</dd></dl></div><div class='xr-var-data'><pre>[13779 values with dtype=float64]</pre></div></li><li class='xr-var-item'><div class='xr-var-name'><span>t_ud10</span></div><div class='xr-var-dims'>(TIME)</div><div class='xr-var-dtype'>float64</div><div class='xr-var-preview xr-preview'>...</div><input id='attrs-3965aa55-79ca-4ae9-bc58-0248985c6720' class='xr-var-attrs-in' type='checkbox' ><label for='attrs-3965aa55-79ca-4ae9-bc58-0248985c6720' title='Show/Hide attributes'><svg class='icon xr-icon-file-text2'><use xlink:href='#icon-file-text2'></use></svg></label><input id='data-859d4dad-9a3d-4b58-961b-1e6e301554f9' class='xr-var-data-in' type='checkbox'><label for='data-859d4dad-9a3d-4b58-961b-1e6e301554f9' title='Show/Hide data repr'><svg class='icon xr-icon-database'><use xlink:href='#icon-database'></use></svg></label><div class='xr-var-attrs'><dl class='xr-attrs'><dt><span>long_name :</span></dt><dd>Transport</dd><dt><span>units :</span></dt><dd>Sv</dd><dt><span>description :</span></dt><dd>upper NADW 1100-3000m</dd><dt><span>standard_name :</span></dt><dd>Transport</dd></dl></div><div class='xr-var-data'><pre>[13779 values with dtype=float64]</pre></div></li><li class='xr-var-item'><div class='xr-var-name'><span>t_ld10</span></div><div class='xr-var-dims'>(TIME)</div><div class='xr-var-dtype'>float64</div><div class='xr-var-preview xr-preview'>...</div><input id='attrs-9feb5b23-b20a-45eb-8b4c-ae59d6938be4' class='xr-var-attrs-in' type='checkbox' ><label for='attrs-9feb5b23-b20a-45eb-8b4c-ae59d6938be4' title='Show/Hide attributes'><svg class='icon xr-icon-file-text2'><use xlink:href='#icon-file-text2'></use></svg></label><input id='data-76f09baf-76c5-4237-b93e-f93d0758f389' class='xr-var-data-in' type='checkbox'><label for='data-76f09baf-76c5-4237-b93e-f93d0758f389' title='Show/Hide data repr'><svg class='icon xr-icon-database'><use xlink:href='#icon-database'></use></svg></label><div class='xr-var-attrs'><dl class='xr-attrs'><dt><span>long_name :</span></dt><dd>Transport</dd><dt><span>units :</span></dt><dd>Sv</dd><dt><span>description :</span></dt><dd>lower NADW 3000-5000m</dd><dt><span>standard_name :</span></dt><dd>Transport</dd></dl></div><div class='xr-var-data'><pre>[13779 values with dtype=float64]</pre></div></li><li class='xr-var-item'><div class='xr-var-name'><span>t_bw10</span></div><div class='xr-var-dims'>(TIME)</div><div class='xr-var-dtype'>float64</div><div class='xr-var-preview xr-preview'>...</div><input id='attrs-dbf1a229-ef83-4159-9973-c4f85bea4a5b' class='xr-var-attrs-in' type='checkbox' ><label for='attrs-dbf1a229-ef83-4159-9973-c4f85bea4a5b' title='Show/Hide attributes'><svg class='icon xr-icon-file-text2'><use xlink:href='#icon-file-text2'></use></svg></label><input id='data-699db9de-8a5e-44f8-8eb1-b71df03e33c8' class='xr-var-data-in' type='checkbox'><label for='data-699db9de-8a5e-44f8-8eb1-b71df03e33c8' title='Show/Hide data repr'><svg class='icon xr-icon-database'><use xlink:href='#icon-database'></use></svg></label><div class='xr-var-attrs'><dl class='xr-attrs'><dt><span>long_name :</span></dt><dd>Transport</dd><dt><span>units :</span></dt><dd>Sv</dd><dt><span>description :</span></dt><dd>AABW &gt; 5000m</dd><dt><span>standard_name :</span></dt><dd>Transport</dd></dl></div><div class='xr-var-data'><pre>[13779 values with dtype=float64]</pre></div></li><li class='xr-var-item'><div class='xr-var-name'><span>t_gs10</span></div><div class='xr-var-dims'>(TIME)</div><div class='xr-var-dtype'>float64</div><div class='xr-var-preview xr-preview'>...</div><input id='attrs-7157ae49-5b8d-4e4d-a777-702188b6c4f3' class='xr-var-attrs-in' type='checkbox' ><label for='attrs-7157ae49-5b8d-4e4d-a777-702188b6c4f3' title='Show/Hide attributes'><svg class='icon xr-icon-file-text2'><use xlink:href='#icon-file-text2'></use></svg></label><input id='data-04b0ff06-3557-4b65-a8a5-7cd42c6aad5c' class='xr-var-data-in' type='checkbox'><label for='data-04b0ff06-3557-4b65-a8a5-7cd42c6aad5c' title='Show/Hide data repr'><svg class='icon xr-icon-database'><use xlink:href='#icon-database'></use></svg></label><div class='xr-var-attrs'><dl class='xr-attrs'><dt><span>long_name :</span></dt><dd>Florida Straits Transport</dd><dt><span>units :</span></dt><dd>Sv</dd><dt><span>description :</span></dt><dd>Florida Current from cable measurements</dd><dt><span>standard_name :</span></dt><dd>Transport</dd></dl></div><div class='xr-var-data'><pre>[13779 values with dtype=float64]</pre></div></li><li class='xr-var-item'><div class='xr-var-name'><span>t_ek10</span></div><div class='xr-var-dims'>(TIME)</div><div class='xr-var-dtype'>float64</div><div class='xr-var-preview xr-preview'>...</div><input id='attrs-555e254f-53d1-4bb5-a2aa-d3755db1ea63' class='xr-var-attrs-in' type='checkbox' ><label for='attrs-555e254f-53d1-4bb5-a2aa-d3755db1ea63' title='Show/Hide attributes'><svg class='icon xr-icon-file-text2'><use xlink:href='#icon-file-text2'></use></svg></label><input id='data-6995b13b-e75e-4d12-b807-8a3567474f4e' class='xr-var-data-in' type='checkbox'><label for='data-6995b13b-e75e-4d12-b807-8a3567474f4e' title='Show/Hide data repr'><svg class='icon xr-icon-database'><use xlink:href='#icon-database'></use></svg></label><div class='xr-var-attrs'><dl class='xr-attrs'><dt><span>long_name :</span></dt><dd>Ekman Transport</dd><dt><span>units :</span></dt><dd>Sv</dd><dt><span>description :</span></dt><dd>Ekman transport from wind stress</dd><dt><span>standard_name :</span></dt><dd>Transport</dd></dl></div><div class='xr-var-data'><pre>[13779 values with dtype=float64]</pre></div></li><li class='xr-var-item'><div class='xr-var-name'><span>t_umo10</span></div><div class='xr-var-dims'>(TIME)</div><div class='xr-var-dtype'>float64</div><div class='xr-var-preview xr-preview'>...</div><input id='attrs-a4fc59a4-be35-41f4-b527-4b900a78cc29' class='xr-var-attrs-in' type='checkbox' ><label for='attrs-a4fc59a4-be35-41f4-b527-4b900a78cc29' title='Show/Hide attributes'><svg class='icon xr-icon-file-text2'><use xlink:href='#icon-file-text2'></use></svg></label><input id='data-99d26248-cd20-40e0-b3af-acc20724caba' class='xr-var-data-in' type='checkbox'><label for='data-99d26248-cd20-40e0-b3af-acc20724caba' title='Show/Hide data repr'><svg class='icon xr-icon-database'><use xlink:href='#icon-database'></use></svg></label><div class='xr-var-attrs'><dl class='xr-attrs'><dt><span>long_name :</span></dt><dd>Transport</dd><dt><span>units :</span></dt><dd>Sv</dd><dt><span>description :</span></dt><dd>Upper Mid-Ocean transport</dd><dt><span>standard_name :</span></dt><dd>Transport</dd></dl></div><div class='xr-var-data'><pre>[13779 values with dtype=float64]</pre></div></li><li class='xr-var-item'><div class='xr-var-name'><span>moc_mar_hc10</span></div><div class='xr-var-dims'>(TIME)</div><div class='xr-var-dtype'>float64</div><div class='xr-var-preview xr-preview'>...</div><input id='attrs-048733ef-3d55-4a16-b41f-35e6283bf124' class='xr-var-attrs-in' type='checkbox' ><label for='attrs-048733ef-3d55-4a16-b41f-35e6283bf124' title='Show/Hide attributes'><svg class='icon xr-icon-file-text2'><use xlink:href='#icon-file-text2'></use></svg></label><input id='data-e10e5b8c-2196-46c5-b72b-66a6d47c83dc' class='xr-var-data-in' type='checkbox'><label for='data-e10e5b8c-2196-46c5-b72b-66a6d47c83dc' title='Show/Hide data repr'><svg class='icon xr-icon-database'><use xlink:href='#icon-database'></use></svg></label><div class='xr-var-attrs'><dl class='xr-attrs'><dt><span>long_name :</span></dt><dd>overturning transport</dd><dt><span>units :</span></dt><dd>Sv</dd><dt><span>description :</span></dt><dd>MOC strength</dd><dt><span>standard_name :</span></dt><dd>Transport</dd></dl></div><div class='xr-var-data'><pre>[13779 values with dtype=float64]</pre></div></li></ul></div></li><li class='xr-section-item'><input id='section-ef1d52b0-8fa8-4b36-9616-91ed0829c415' class='xr-section-summary-in' type='checkbox'  ><label for='section-ef1d52b0-8fa8-4b36-9616-91ed0829c415' class='xr-section-summary' >Indexes: <span>(1)</span></label><div class='xr-section-inline-details'></div><div class='xr-section-details'><ul class='xr-var-list'><li class='xr-var-item'><div class='xr-index-name'><div>TIME</div></div><div class='xr-index-preview'>PandasIndex</div><input type='checkbox' disabled/><label></label><input id='index-65c6b3c2-5572-495b-ba14-597496f8d1f5' class='xr-index-data-in' type='checkbox'/><label for='index-65c6b3c2-5572-495b-ba14-597496f8d1f5' title='Show/Hide index repr'><svg class='icon xr-icon-database'><use xlink:href='#icon-database'></use></svg></label><div class='xr-index-data'><pre>PandasIndex(DatetimeIndex([&#x27;2004-04-02 00:00:00&#x27;, &#x27;2004-04-02 12:00:00&#x27;,\n",
       "               &#x27;2004-04-03 00:00:00&#x27;, &#x27;2004-04-03 12:00:00&#x27;,\n",
       "               &#x27;2004-04-04 00:00:00&#x27;, &#x27;2004-04-04 12:00:00&#x27;,\n",
       "               &#x27;2004-04-05 00:00:00&#x27;, &#x27;2004-04-05 12:00:00&#x27;,\n",
       "               &#x27;2004-04-06 00:00:00&#x27;, &#x27;2004-04-06 12:00:00&#x27;,\n",
       "               ...\n",
       "               &#x27;2023-02-06 12:00:00&#x27;, &#x27;2023-02-07 00:00:00&#x27;,\n",
       "               &#x27;2023-02-07 12:00:00&#x27;, &#x27;2023-02-08 00:00:00&#x27;,\n",
       "               &#x27;2023-02-08 12:00:00&#x27;, &#x27;2023-02-09 00:00:00&#x27;,\n",
       "               &#x27;2023-02-09 12:00:00&#x27;, &#x27;2023-02-10 00:00:00&#x27;,\n",
       "               &#x27;2023-02-10 12:00:00&#x27;, &#x27;2023-02-11 00:00:00&#x27;],\n",
       "              dtype=&#x27;datetime64[ns]&#x27;, name=&#x27;TIME&#x27;, length=13779, freq=None))</pre></div></li></ul></div></li><li class='xr-section-item'><input id='section-ad41f933-2bd7-48bb-bb21-26b103ba6c7e' class='xr-section-summary-in' type='checkbox'  ><label for='section-ad41f933-2bd7-48bb-bb21-26b103ba6c7e' class='xr-section-summary' >Attributes: <span>(29)</span></label><div class='xr-section-inline-details'></div><div class='xr-section-details'><dl class='xr-attrs'><dt><span>title :</span></dt><dd>RAPID MOC timeseries</dd><dt><span>platform :</span></dt><dd>mooring</dd><dt><span>platform_vocabulary :</span></dt><dd>https://vocab.nerc.ac.uk/collection/L06/</dd><dt><span>time_coverage_start :</span></dt><dd>2004-04-01</dd><dt><span>time_coverage_end :</span></dt><dd>2023-12-31</dd><dt><span>program :</span></dt><dd>RAPID</dd><dt><span>project :</span></dt><dd>RAPID-AMOC 26°N array</dd><dt><span>contributor_name :</span></dt><dd>Ben Moat, Ben Moat</dd><dt><span>contributor_email :</span></dt><dd>ben.moat@noc.ac.uk, ben.moat@noc.ac.uk</dd><dt><span>contributor_id :</span></dt><dd>, </dd><dt><span>contributor_role :</span></dt><dd>creator, PI</dd><dt><span>contributing_institutions :</span></dt><dd>National Oceanography Centre (Southampton) (UK)</dd><dt><span>contributing_institutions_vocabulary :</span></dt><dd>https://edmo.seadatanet.org/report/17</dd><dt><span>contributing_institutions_role :</span></dt><dd></dd><dt><span>contributing_institutions_role_vocabulary :</span></dt><dd></dd><dt><span>doi :</span></dt><dd>doi: 10.5285/223b34a32dc5c945e0637086abc0f274</dd><dt><span>web_link :</span></dt><dd>http://www.rapid.ac.uk/</dd><dt><span>comment :</span></dt><dd>Dataset accessed and processed via xarray</dd><dt><span>date_created :</span></dt><dd>17-Sep-2024</dd><dt><span>featureType :</span></dt><dd>timeSeries</dd><dt><span>acknowledgement :</span></dt><dd>The RAPID-MOC monitoring project is funded by the Natural Environment Research Council and data is freely available from www.rapid.ac.uk/</dd><dt><span>source_file :</span></dt><dd>moc_transports.nc</dd><dt><span>source_path :</span></dt><dd>/home/runner/work/amocarray/amocarray/data/moc_transports.nc</dd><dt><span>description :</span></dt><dd>RAPID 26N transport estimates dataset</dd><dt><span>data_product :</span></dt><dd>RAPID layer transport time series</dd><dt><span>license :</span></dt><dd>CC-BY 4.0</dd><dt><span>Conventions :</span></dt><dd>CF-1.8, ACDD-1.3</dd><dt><span>summary :</span></dt><dd>RAPID 26N transport estimates dataset</dd><dt><span>featureType_vocabulary :</span></dt><dd>https://cfconventions.org/cf-conventions/v1.6.0/cf-conventions.html#_features_and_feature_types</dd></dl></div></li></ul></div></div>"
      ],
      "text/plain": [
       "<xarray.Dataset> Size: 1MB\n",
       "Dimensions:       (TIME: 13779)\n",
       "Coordinates:\n",
       "  * TIME          (TIME) datetime64[ns] 110kB 2004-04-02 ... 2023-02-11\n",
       "Data variables:\n",
       "    t_therm10     (TIME) float64 110kB ...\n",
       "    t_aiw10       (TIME) float64 110kB ...\n",
       "    t_ud10        (TIME) float64 110kB ...\n",
       "    t_ld10        (TIME) float64 110kB ...\n",
       "    t_bw10        (TIME) float64 110kB ...\n",
       "    t_gs10        (TIME) float64 110kB ...\n",
       "    t_ek10        (TIME) float64 110kB ...\n",
       "    t_umo10       (TIME) float64 110kB ...\n",
       "    moc_mar_hc10  (TIME) float64 110kB ...\n",
       "Attributes: (12/29)\n",
       "    title:                                      RAPID MOC timeseries\n",
       "    platform:                                   mooring\n",
       "    platform_vocabulary:                        https://vocab.nerc.ac.uk/coll...\n",
       "    time_coverage_start:                        2004-04-01\n",
       "    time_coverage_end:                          2023-12-31\n",
       "    program:                                    RAPID\n",
       "    ...                                         ...\n",
       "    description:                                RAPID 26N transport estimates...\n",
       "    data_product:                               RAPID layer transport time se...\n",
       "    license:                                    CC-BY 4.0\n",
       "    Conventions:                                CF-1.8, ACDD-1.3\n",
       "    summary:                                    RAPID 26N transport estimates...\n",
       "    featureType_vocabulary:                     https://cfconventions.org/cf-..."
      ]
     },
     "execution_count": 3,
     "metadata": {},
     "output_type": "execute_result"
    }
   ],
   "source": [
    "# Load data from data/moc_transports\n",
    "ds_rapid = readers.load_sample_dataset()\n",
    "ds_rapid = standardise.standardise_rapid(ds_rapid, ds_rapid.attrs[\"source_file\"])\n",
    "\n",
    "datasetsRAPID = readers.load_dataset(\"rapid\", transport_only=False)\n",
    "standardRAPID = [\n",
    "    standardise.standardise_rapid(ds, ds.attrs[\"source_file\"]) for ds in datasetsRAPID\n",
    "]\n",
    "ds_rapid\n"
   ]
  },
  {
   "cell_type": "code",
   "execution_count": 4,
   "id": "c0e74af4",
   "metadata": {
    "execution": {
     "iopub.execute_input": "2025-04-23T13:50:43.368923Z",
     "iopub.status.busy": "2025-04-23T13:50:43.368760Z",
     "iopub.status.idle": "2025-04-23T13:50:44.372586Z",
     "shell.execute_reply": "2025-04-23T13:50:44.372105Z"
    }
   },
   "outputs": [
    {
     "data": {
      "text/plain": [
       "<matplotlib.legend.Legend at 0x7f2676a41940>"
      ]
     },
     "execution_count": 4,
     "metadata": {},
     "output_type": "execute_result"
    },
    {
     "data": {
      "image/png": "[encoded data removed]",
      "text/plain": [
       "<Figure size 800x300 with 1 Axes>"
      ]
     },
     "metadata": {},
     "output_type": "display_data"
    }
   ],
   "source": [
    "import matplotlib.pyplot as plt\n",
    "\n",
    "# Resample the dataset to monthly averages\n",
    "ds_monthly = ds_rapid.resample(TIME=\"ME\").mean()\n",
    "\n",
    "# Initialize the figure and axes with a specific figure size\n",
    "fig, axes = plt.subplots(figsize=(8, 3))\n",
    "\n",
    "# Plot the original dataset in thin grey\n",
    "plt.plot(\n",
    "    ds_rapid[\"TIME\"],\n",
    "    ds_rapid[\"moc_mar_hc10\"],\n",
    "    color=\"grey\",\n",
    "    alpha=0.5,\n",
    "    linewidth=0.5,\n",
    "    label=\"Original\",\n",
    ")\n",
    "\n",
    "# Plot the monthly averaged dataset in thick red\n",
    "plt.plot(\n",
    "    ds_monthly[\"TIME\"],\n",
    "    ds_monthly[\"moc_mar_hc10\"],\n",
    "    color=\"red\",\n",
    "    linewidth=1,\n",
    "    label=\"Monthly Average\",\n",
    ")\n",
    "\n",
    "# Add a horizontal line at y=0\n",
    "plt.axhline(0, color=\"black\", linestyle=\"--\", linewidth=0.5)\n",
    "\n",
    "# Customize the axes\n",
    "axes.spines[\"top\"].set_visible(False)\n",
    "axes.spines[\"right\"].set_visible(False)\n",
    "\n",
    "# Add title and labels\n",
    "plt.title(\"RAPID 26°N - AMOC\")\n",
    "plt.xlabel(\"Time\")\n",
    "plt.ylabel(\"Transport [Sv]\")\n",
    "plt.legend()"
   ]
  },
  {
   "cell_type": "markdown",
   "id": "17f61d98",
   "metadata": {},
   "source": [
    "### Load MOVE 16°N"
   ]
  },
  {
   "cell_type": "code",
   "execution_count": 5,
   "id": "60f5279f",
   "metadata": {
    "execution": {
     "iopub.execute_input": "2025-04-23T13:50:44.374527Z",
     "iopub.status.busy": "2025-04-23T13:50:44.374067Z",
     "iopub.status.idle": "2025-04-23T13:50:44.401208Z",
     "shell.execute_reply": "2025-04-23T13:50:44.400822Z"
    }
   },
   "outputs": [
    {
     "name": "stderr",
     "output_type": "stream",
     "text": [
      "20250423T135044 INFO     setup_logger Logger initialized for array: move, writing to /home/runner/work/amocarray/amocarray/logs/MOVE_20250423T13_read.log\n"
     ]
    },
    {
     "name": "stderr",
     "output_type": "stream",
     "text": [
      "20250423T135044 INFO     load_dataset Loading dataset for array: move\n"
     ]
    },
    {
     "name": "stderr",
     "output_type": "stream",
     "text": [
      "20250423T135044 INFO     read_move Starting to read MOVE dataset\n"
     ]
    },
    {
     "name": "stderr",
     "output_type": "stream",
     "text": [
      "20250423T135044 INFO     resolve_file_path Using cached file: /home/runner/work/amocarray/amocarray/data/OS_MOVE_TRANSPORTS.nc\n"
     ]
    },
    {
     "name": "stderr",
     "output_type": "stream",
     "text": [
      "20250423T135044 INFO     read_move Opening MOVE dataset: /home/runner/work/amocarray/amocarray/data/OS_MOVE_TRANSPORTS.nc\n"
     ]
    },
    {
     "name": "stderr",
     "output_type": "stream",
     "text": [
      "20250423T135044 INFO     read_move Attaching metadata to dataset from file: OS_MOVE_TRANSPORTS.nc\n"
     ]
    },
    {
     "name": "stderr",
     "output_type": "stream",
     "text": [
      "20250423T135044 DEBUG    safe_update_attrs Attribute 'project' already exists in dataset attrs and will not be overwritten.\n"
     ]
    },
    {
     "name": "stderr",
     "output_type": "stream",
     "text": [
      "20250423T135044 DEBUG    safe_update_attrs Attribute 'comment' already exists in dataset attrs and will not be overwritten.\n"
     ]
    },
    {
     "name": "stderr",
     "output_type": "stream",
     "text": [
      "20250423T135044 DEBUG    safe_update_attrs Attribute 'acknowledgement' already exists in dataset attrs and will not be overwritten.\n"
     ]
    },
    {
     "name": "stderr",
     "output_type": "stream",
     "text": [
      "20250423T135044 INFO     read_move Successfully loaded 1 MOVE dataset(s)\n"
     ]
    },
    {
     "name": "stderr",
     "output_type": "stream",
     "text": [
      "20250423T135044 INFO     load_dataset Successfully loaded 1 dataset(s) for array: move\n"
     ]
    },
    {
     "name": "stderr",
     "output_type": "stream",
     "text": [
      "20250423T135044 INFO     _summarise_datasets \n",
      "Summary for array 'move':\n",
      "Total datasets loaded: 1\n",
      "\n",
      "Dataset 1:\n",
      "  Source file: OS_MOVE_TRANSPORTS.nc\n",
      "  Time coverage: 2000-01-01 to 2018-06-30\n",
      "  Dimensions:\n",
      "    - TIME: 6756\n",
      "  Variables:\n",
      "    - TRANSPORT_TOTAL: shape (6756,)\n",
      "    - transport_component_internal: shape (6756,)\n",
      "    - transport_component_internal_offset: shape (6756,)\n",
      "    - transport_component_boundary: shape (6756,)\n",
      "\n"
     ]
    },
    {
     "name": "stderr",
     "output_type": "stream",
     "text": [
      "20250423T135044 DEBUG    standardise_array Standardising OS_MOVE_TRANSPORTS.nc for MOVE\n"
     ]
    },
    {
     "name": "stderr",
     "output_type": "stream",
     "text": [
      "20250423T135044 DEBUG    merge_metadata_aliases Renaming key 'weblink' → 'web_link'\n"
     ]
    },
    {
     "name": "stderr",
     "output_type": "stream",
     "text": [
      "20250423T135044 DEBUG    merge_metadata_aliases Renaming key 'reference' → 'references'\n"
     ]
    },
    {
     "name": "stderr",
     "output_type": "stream",
     "text": [
      "20250423T135044 DEBUG    merge_metadata_aliases Conflict for 'references' from 'reference'; keeping first value\n"
     ]
    },
    {
     "name": "stderr",
     "output_type": "stream",
     "text": [
      "20250423T135044 DEBUG    merge_metadata_aliases Renaming key 'platform_type' → 'platform'\n"
     ]
    },
    {
     "name": "stderr",
     "output_type": "stream",
     "text": [
      "20250423T135044 DEBUG    _consolidate_contributors Starting _consolidate_contributors with attrs: {'Conventions': 'CF-1.7, ACDD-1.3', 'title': 'Ocean Volume Transport Data from the MOVE Mooring Observations', 'summary': 'MOVE transport estimates dataset from UCSD mooring project', 'date_created': '2019-01-30T18:13:16Z', 'creator_name': 'Matthias Lankhorst', 'creator_url': 'http://orcid.org/0000-0002-4166-4044', 'contributor_name': 'Uwe Send, Matthias Lankhorst', 'contributor_role': 'Principal Investigator, Creator', 'institution': 'Scripps Institution of Oceanography', 'project': 'Meridional Overturning Variability Experiment (MOVE)', 'references': 'http://dx.doi.org/10.1016/j.dsr.2005.12.007 http://dx.doi.org/10.1029/2011GL049801', 'comment': 'Dataset accessed and processed via http://github.com/AMOCcommunity/amocarray', 'license': \"Data freely available. User assumes all risk for use of data. Please give due credit to the authors, project, and funding sources when using these data, e.g. by including the 'citation' text provided here.\", 'citation': 'Collection of MOVE data was funded by NOAA Research, and carried out by principal investigators Uwe Send and Matthias Lankhorst. MOVE data are made freely available through the international OceanSITES program.', 'acknowledgement': 'The MOVE project is made possible with funding from the NOAA Climate Program Office under award NA15OAR4320071. Initial funding came from the German Bundesministerium fuer Bildung und Forschung.', 'source': 'Derived using the following files: OceanSITES file OS_MOVE_MULTISITE_GRIDDED_TS.nc, created 2019-01-30T18:11:12Z OceanSITES file OS_MOVE_MULTISITE_GRIDDED_V.nc, created 2019-01-17T00:40:57Z', 'source_file': 'OS_MOVE_TRANSPORTS.nc', 'source_path': '/home/runner/work/amocarray/amocarray/data/OS_MOVE_TRANSPORTS.nc', 'description': 'MOVE transport estimates dataset from UCSD mooring project', 'web_link': 'https://mooring.ucsd.edu/move/', 'data_product': 'MOVE transport time series', 'program': 'MOVE', 'contributor_url': '_ , http://orcid.org/0000-0002-4166-4044', 'doi': 'http://dx.doi.org/10.1016/j.dsr.2005.12.007 http://dx.doi.org/10.1029/2011GL049801', 'featureType': 'timeSeries', 'time_coverage_start': '2000-01-01', 'time_coverage_end': '2018-06-30', 'platform': 'Mooring array'}\n"
     ]
    },
    {
     "name": "stderr",
     "output_type": "stream",
     "text": [
      "20250423T135044 DEBUG    _consolidate_contributors Email buckets: {}\n"
     ]
    },
    {
     "name": "stderr",
     "output_type": "stream",
     "text": [
      "20250423T135044 DEBUG    _consolidate_contributors URL buckets: {'creator_url': ['http://orcid.org/0000-0002-4166-4044'], 'contributor_url': ['_', 'http://orcid.org/0000-0002-4166-4044']}\n"
     ]
    },
    {
     "name": "stderr",
     "output_type": "stream",
     "text": [
      "20250423T135044 DEBUG    _consolidate_contributors Names: ['Matthias Lankhorst', 'Uwe Send', 'Matthias Lankhorst']; Roles: ['creator', '', '']; Sources: ['creator_name', 'contributor_name', 'contributor_name']\n"
     ]
    },
    {
     "name": "stderr",
     "output_type": "stream",
     "text": [
      "20250423T135044 DEBUG    _consolidate_contributors Set contributor_name='Matthias Lankhorst, Uwe Send, Matthias Lankhorst', contributor_role='Principal Investigator, Creator'\n"
     ]
    },
    {
     "name": "stderr",
     "output_type": "stream",
     "text": [
      "20250423T135044 DEBUG    _consolidate_contributors Aligned contributor_email=', , '\n"
     ]
    },
    {
     "name": "stderr",
     "output_type": "stream",
     "text": [
      "20250423T135044 DEBUG    _consolidate_contributors Aligned contributor_id='http://orcid.org/0000-0002-4166-4044, _, http://orcid.org/0000-0002-4166-4044'\n"
     ]
    },
    {
     "name": "stderr",
     "output_type": "stream",
     "text": [
      "20250423T135044 DEBUG    _consolidate_contributors Matched institution 'Scripps Institution of Oceanography' → 'scripps institution of oceanography' → ''\n"
     ]
    },
    {
     "name": "stderr",
     "output_type": "stream",
     "text": [
      "20250423T135044 DEBUG    _consolidate_contributors Finished _consolidate_contributors: {'Conventions': 'CF-1.7, ACDD-1.3', 'title': 'Ocean Volume Transport Data from the MOVE Mooring Observations', 'summary': 'MOVE transport estimates dataset from UCSD mooring project', 'date_created': '2019-01-30T18:13:16Z', 'contributor_role': 'Principal Investigator, Creator', 'project': 'Meridional Overturning Variability Experiment (MOVE)', 'references': 'http://dx.doi.org/10.1016/j.dsr.2005.12.007 http://dx.doi.org/10.1029/2011GL049801', 'comment': 'Dataset accessed and processed via http://github.com/AMOCcommunity/amocarray', 'license': \"Data freely available. User assumes all risk for use of data. Please give due credit to the authors, project, and funding sources when using these data, e.g. by including the 'citation' text provided here.\", 'citation': 'Collection of MOVE data was funded by NOAA Research, and carried out by principal investigators Uwe Send and Matthias Lankhorst. MOVE data are made freely available through the international OceanSITES program.', 'acknowledgement': 'The MOVE project is made possible with funding from the NOAA Climate Program Office under award NA15OAR4320071. Initial funding came from the German Bundesministerium fuer Bildung und Forschung.', 'source': 'Derived using the following files: OceanSITES file OS_MOVE_MULTISITE_GRIDDED_TS.nc, created 2019-01-30T18:11:12Z OceanSITES file OS_MOVE_MULTISITE_GRIDDED_V.nc, created 2019-01-17T00:40:57Z', 'source_file': 'OS_MOVE_TRANSPORTS.nc', 'source_path': '/home/runner/work/amocarray/amocarray/data/OS_MOVE_TRANSPORTS.nc', 'description': 'MOVE transport estimates dataset from UCSD mooring project', 'web_link': 'https://mooring.ucsd.edu/move/', 'data_product': 'MOVE transport time series', 'program': 'MOVE', 'doi': 'http://dx.doi.org/10.1016/j.dsr.2005.12.007 http://dx.doi.org/10.1029/2011GL049801', 'featureType': 'timeSeries', 'time_coverage_start': '2000-01-01', 'time_coverage_end': '2018-06-30', 'platform': 'Mooring array', 'contributor_name': 'Matthias Lankhorst, Uwe Send, Matthias Lankhorst', 'contributor_email': ', , ', 'contributor_id': 'http://orcid.org/0000-0002-4166-4044, _, http://orcid.org/0000-0002-4166-4044', 'contributing_institutions': 'Scripps Institution of Oceanography', 'contributing_institutions_vocabulary': '', 'contributing_institutions_role': '', 'contributing_institutions_role_vocabulary': ''}\n"
     ]
    },
    {
     "name": "stderr",
     "output_type": "stream",
     "text": [
      "20250423T135044 DEBUG    normalize_and_add_vocabulary Normalized 'platform': 'Mooring array' → 'mooring'\n"
     ]
    },
    {
     "name": "stderr",
     "output_type": "stream",
     "text": [
      "20250423T135044 DEBUG    normalize_and_add_vocabulary Added vocabulary for 'platform': https://vocab.nerc.ac.uk/collection/L06/\n"
     ]
    },
    {
     "name": "stderr",
     "output_type": "stream",
     "text": [
      "20250423T135044 DEBUG    normalize_and_add_vocabulary Added vocabulary for 'featureType': https://cfconventions.org/cf-conventions/v1.6.0/cf-conventions.html#_features_and_feature_types\n"
     ]
    },
    {
     "name": "stdout",
     "output_type": "stream",
     "text": [
      "Summary for array 'move':\n",
      "Total datasets loaded: 1\n",
      "\n",
      "Dataset 1:\n",
      "  Source file: OS_MOVE_TRANSPORTS.nc\n",
      "  Time coverage: 2000-01-01 to 2018-06-30\n",
      "  Dimensions:\n",
      "    - TIME: 6756\n",
      "  Variables:\n",
      "    - TRANSPORT_TOTAL: shape (6756,)\n",
      "    - transport_component_internal: shape (6756,)\n",
      "    - transport_component_internal_offset: shape (6756,)\n",
      "    - transport_component_boundary: shape (6756,)\n",
      "\n"
     ]
    }
   ],
   "source": [
    "datasetsMOVE = readers.load_dataset(\"move\")\n",
    "ds_move = datasetsMOVE[0]\n",
    "standardMOVE = [\n",
    "    standardise.standardise_move(ds, ds.attrs[\"source_file\"]) for ds in datasetsMOVE\n",
    "]"
   ]
  },
  {
   "cell_type": "code",
   "execution_count": 6,
   "id": "41a7a87c",
   "metadata": {
    "execution": {
     "iopub.execute_input": "2025-04-23T13:50:44.402902Z",
     "iopub.status.busy": "2025-04-23T13:50:44.402634Z",
     "iopub.status.idle": "2025-04-23T13:50:44.944445Z",
     "shell.execute_reply": "2025-04-23T13:50:44.943913Z"
    }
   },
   "outputs": [
    {
     "data": {
      "image/png": "[encoded data removed]",
      "text/plain": [
       "<Figure size 1000x300 with 1 Axes>"
      ]
     },
     "metadata": {},
     "output_type": "display_data"
    }
   ],
   "source": [
    "# Resample the dataset to monthly averages\n",
    "ds_monthly = ds_move.resample(TIME=\"ME\").mean()\n",
    "\n",
    "# Create a figure and axis\n",
    "fig, ax = plt.subplots(figsize=(10, 3))\n",
    "\n",
    "# Plot the total transport from the MOVE dataset in thin grey\n",
    "ax.plot(\n",
    "    ds_move[\"TIME\"],\n",
    "    ds_move[\"TRANSPORT_TOTAL\"],\n",
    "    color=\"grey\",\n",
    "    alpha=0.5,\n",
    "    linewidth=0.5,\n",
    "    label=\"Total Transport\",\n",
    ")\n",
    "\n",
    "# Plot the monthly averaged dataset in thick red\n",
    "ax.plot(\n",
    "    ds_monthly[\"TIME\"],\n",
    "    ds_monthly[\"TRANSPORT_TOTAL\"],\n",
    "    color=\"darkblue\",\n",
    "    linewidth=1,\n",
    "    label=\"Monthly Average\",\n",
    ")\n",
    "# Add a horizontal line at y=0\n",
    "ax.axhline(0, color=\"black\", linestyle=\"--\", linewidth=0.5)\n",
    "\n",
    "# Customize the axes\n",
    "ax.spines[\"top\"].set_visible(False)\n",
    "ax.spines[\"right\"].set_visible(False)\n",
    "\n",
    "# Add labels, title, and legend\n",
    "ax.set_title(\"MOVE 16°N - NADW transport\")\n",
    "ax.set_xlabel(\"Time\")\n",
    "ax.set_ylabel(\"Transport [Sv]\")\n",
    "ax.legend()\n",
    "\n",
    "# Customize the grid\n",
    "ax.grid(True, linestyle=\"--\", alpha=0.5)"
   ]
  },
  {
   "cell_type": "markdown",
   "id": "1b8e3db0",
   "metadata": {},
   "source": [
    "### Load OSNAP"
   ]
  },
  {
   "cell_type": "code",
   "execution_count": 7,
   "id": "63837cc1",
   "metadata": {
    "execution": {
     "iopub.execute_input": "2025-04-23T13:50:44.946260Z",
     "iopub.status.busy": "2025-04-23T13:50:44.946073Z",
     "iopub.status.idle": "2025-04-23T13:50:54.869464Z",
     "shell.execute_reply": "2025-04-23T13:50:54.868985Z"
    }
   },
   "outputs": [
    {
     "name": "stderr",
     "output_type": "stream",
     "text": [
      "20250423T135044 INFO     setup_logger Logger initialized for array: osnap, writing to /home/runner/work/amocarray/amocarray/logs/OSNAP_20250423T13_read.log\n"
     ]
    },
    {
     "name": "stderr",
     "output_type": "stream",
     "text": [
      "20250423T135044 INFO     load_dataset Loading dataset for array: osnap\n"
     ]
    },
    {
     "name": "stderr",
     "output_type": "stream",
     "text": [
      "20250423T135044 INFO     read_osnap Starting to read OSNAP dataset\n"
     ]
    },
    {
     "name": "stderr",
     "output_type": "stream",
     "text": [
      "20250423T135044 INFO     resolve_file_path Downloading file from https://repository.gatech.edu/bitstreams/e039e311-dd2e-4511-a525-c2fcfb3be85a/download to /home/runner/work/amocarray/amocarray/data\n"
     ]
    },
    {
     "name": "stderr",
     "output_type": "stream",
     "text": [
      "20250423T135054 INFO     read_osnap Opening OSNAP dataset: /home/runner/work/amocarray/amocarray/data/OSNAP_MOC_MHT_MFT_TimeSeries_201408_202006_2023.nc\n"
     ]
    },
    {
     "name": "stderr",
     "output_type": "stream",
     "text": [
      "20250423T135054 INFO     read_osnap Attaching metadata to dataset from file: OSNAP_MOC_MHT_MFT_TimeSeries_201408_202006_2023.nc\n"
     ]
    },
    {
     "name": "stderr",
     "output_type": "stream",
     "text": [
      "20250423T135054 DEBUG    safe_update_attrs Attribute 'project' already exists in dataset attrs and will not be overwritten.\n"
     ]
    },
    {
     "name": "stderr",
     "output_type": "stream",
     "text": [
      "20250423T135054 INFO     read_osnap Successfully loaded 1 OSNAP dataset(s)\n"
     ]
    },
    {
     "name": "stderr",
     "output_type": "stream",
     "text": [
      "20250423T135054 INFO     load_dataset Successfully loaded 1 dataset(s) for array: osnap\n"
     ]
    },
    {
     "name": "stderr",
     "output_type": "stream",
     "text": [
      "20250423T135054 INFO     _summarise_datasets \n",
      "Summary for array 'osnap':\n",
      "Total datasets loaded: 1\n",
      "\n",
      "Dataset 1:\n",
      "  Source file: OSNAP_MOC_MHT_MFT_TimeSeries_201408_202006_2023.nc\n",
      "  Time coverage: 2014-08-01 to 2020-06-01\n",
      "  Dimensions:\n",
      "    - TIME: 71\n",
      "  Variables:\n",
      "    - MOC_ALL: shape (71,)\n",
      "    - MOC_ALL_ERR: shape (71,)\n",
      "    - MOC_EAST: shape (71,)\n",
      "    - MOC_EAST_ERR: shape (71,)\n",
      "    - MOC_WEST: shape (71,)\n",
      "    - MOC_WEST_ERR: shape (71,)\n",
      "    - MHT_ALL: shape (71,)\n",
      "    - MHT_ALL_ERR: shape (71,)\n",
      "    - MHT_EAST: shape (71,)\n",
      "    - MHT_EAST_ERR: shape (71,)\n",
      "    - MHT_WEST: shape (71,)\n",
      "    - MHT_WEST_ERR: shape (71,)\n",
      "    - MFT_ALL: shape (71,)\n",
      "    - MFT_ALL_ERR: shape (71,)\n",
      "    - MFT_EAST: shape (71,)\n",
      "    - MFT_EAST_ERR: shape (71,)\n",
      "    - MFT_WEST: shape (71,)\n",
      "    - MFT_WEST_ERR: shape (71,)\n",
      "\n"
     ]
    },
    {
     "name": "stderr",
     "output_type": "stream",
     "text": [
      "20250423T135054 DEBUG    standardise_array Standardising OSNAP_MOC_MHT_MFT_TimeSeries_201408_202006_2023.nc for OSNAP\n"
     ]
    },
    {
     "name": "stderr",
     "output_type": "stream",
     "text": [
      "20250423T135054 DEBUG    merge_metadata_aliases Renaming key 'weblink' → 'web_link'\n"
     ]
    },
    {
     "name": "stderr",
     "output_type": "stream",
     "text": [
      "20250423T135054 DEBUG    merge_metadata_aliases Renaming key 'platform_type' → 'platform'\n"
     ]
    },
    {
     "name": "stderr",
     "output_type": "stream",
     "text": [
      "20250423T135054 DEBUG    _consolidate_contributors Starting _consolidate_contributors with attrs: {'title': 'OSNAP MOC MHT MFT time series (2014-2020)', 'project': 'Overturning in the Subpolar North Atlantic Program (OSNAP)', 'contributor_name': 'Yao Fu, M. Susan Lozier, Tiago Carrilho Biló, Amy S. Bower, Stuart A. Cunningham, Frédéric Cyr, M. Femke de Jong, Brad deYoung, Lewis Drysdale, Neil Fraser, Nora Fried, Heather H. Furey, Guoqi Han, Patricia Handmann, N. Penny Holliday, James Holte, Mark E. Inall, William E. Johns, Sam Jones, Johannes Karstensen, Feili Li, Astrid Pacini, Robert S. Pickart, Darren Rayner, Fiammetta Straneo, Igor Yashayaev', 'contributor_role': 'data design, collection and/or processing', 'contributor_institution': 'Georgia Institute of Technology, USA; National Oceanography Centre at Southampton, UK; Woods Hole Oceanographic Institution, USA; Scottish Association for Marine Science, UK; Royal Netherlands Institute for Sea Research and Utrecht University, Netherlands; Memorial University, Canada; Fisheries and Oceans Canada Northwest Atlantic Fisheries Centre and Institute of Ocean Sciences, Canada; Scripps Institution of Oceanography, UCSD, USA; Edinburgh University, UK; University of Miami, USA; GEOMAR Helmholtz Centre for Ocean Research Kiel, Germany; Bedford Institute of Oceanography, Canada; Xiamen University, China', 'publisher_name': 'M. Susan Lozier; Yao Fu', 'publisher_email': 'susan.lozier@gatech.edu; yaofu@gatech.edu;', 'data_assembly_center': 'Georgia Institute of Technology', 'references': 'Lozier et al. (2019), Science, doi:10.1126/science.aau6592; Li et al. (2017), JTECH, doi:10.1175/JTECH-D-16-0247.1; Li et al. (2021), Nature Communications, doi:10.1038/s41467-021-23350-2; Fu et al. (2023), Communications Earth & Environment, doi:10.1038/s43247-023-00848-9', 'citation': 'OSNAP data were collected and made freely available by the OSNAP (Overturning in the Subpolar North Atlantic Program) project and all the national programs that contribute to it (www.o-snap.org)', 'date_created': '2023-04-24 11:33:07', 'time_coverage_start': '2014-08-01', 'time_coverage_end': '2020-06-30', 'source_file': 'OSNAP_MOC_MHT_MFT_TimeSeries_201408_202006_2023.nc', 'source_path': '/home/runner/work/amocarray/amocarray/data/OSNAP_MOC_MHT_MFT_TimeSeries_201408_202006_2023.nc', 'web_link': 'https://www.o-snap.org', 'comment': 'Dataset accessed and processed via http://github.com/AMOCcommunity/amocarray', 'acknowledgement': 'OSNAP data were collected and made freely available by the OSNAP (Overturning in the Subpolar North Atlantic Program) project and all the national programs that contribute to it (www.o-snap.org).', 'doi': 'https://doi.org/10.35090/gatech/70342', 'data_product': 'Time series of MOC, MHT, and MFT', 'program': 'OSNAP', 'description': 'OSNAP transport and hydrographic estimates dataset, 2014-2020', 'license': 'Creative Commons Attribution 4.0 International (CC BY 4.0)', 'Conventions': 'CF-1.8, ACDD-1.3', 'featureType': 'timeSeries', 'platform': 'Mooring array', 'institution': 'Multiple contributing institutions (US, UK, Germany, Netherlands, Canada, France, China)', 'creator_name': 'OSNAP investigators', 'data_policy': 'Any person making use of OSNAP observational data and/or numerical results must communicate with the responsible investigators at the start of the analysis and anticipate that the data collectors will be co-authors of published results. In cases where investigators choose not to be co-authors on publications that rely on their data, the parties responsible for collecting the data and the sponsoring funding agencies should be acknowledged, including reference to any relevant publications by the originating authors describing the data sets and a reference to the data set itself using its DOI. OSNAP data are intended for scholarly use by the academic and scientific community, with the express understanding that any such use will properly acknowledge the originating investigator.', 'summary': 'OSNAP transport and hydrographic estimates dataset, 2014-2020'}\n"
     ]
    },
    {
     "name": "stderr",
     "output_type": "stream",
     "text": [
      "20250423T135054 DEBUG    _consolidate_contributors Email buckets: {'publisher_email': ['susan.lozier@gatech.edu', 'yaofu@gatech.edu']}\n"
     ]
    },
    {
     "name": "stderr",
     "output_type": "stream",
     "text": [
      "20250423T135054 DEBUG    _consolidate_contributors URL buckets: {}\n"
     ]
    },
    {
     "name": "stderr",
     "output_type": "stream",
     "text": [
      "20250423T135054 DEBUG    _consolidate_contributors Names: ['Yao Fu', 'M. Susan Lozier', 'Tiago Carrilho Biló', 'Amy S. Bower', 'Stuart A. Cunningham', 'Frédéric Cyr', 'M. Femke de Jong', 'Brad deYoung', 'Lewis Drysdale', 'Neil Fraser', 'Nora Fried', 'Heather H. Furey', 'Guoqi Han', 'Patricia Handmann', 'N. Penny Holliday', 'James Holte', 'Mark E. Inall', 'William E. Johns', 'Sam Jones', 'Johannes Karstensen', 'Feili Li', 'Astrid Pacini', 'Robert S. Pickart', 'Darren Rayner', 'Fiammetta Straneo', 'Igor Yashayaev', 'M. Susan Lozier', 'Yao Fu', 'OSNAP investigators']; Roles: ['', '', '', '', '', '', '', '', '', '', '', '', '', '', '', '', '', '', '', '', '', '', '', '', '', '', 'publisher', 'publisher', 'creator']; Sources: ['contributor_name', 'contributor_name', 'contributor_name', 'contributor_name', 'contributor_name', 'contributor_name', 'contributor_name', 'contributor_name', 'contributor_name', 'contributor_name', 'contributor_name', 'contributor_name', 'contributor_name', 'contributor_name', 'contributor_name', 'contributor_name', 'contributor_name', 'contributor_name', 'contributor_name', 'contributor_name', 'contributor_name', 'contributor_name', 'contributor_name', 'contributor_name', 'contributor_name', 'contributor_name', 'publisher_name', 'publisher_name', 'creator_name']\n"
     ]
    },
    {
     "name": "stderr",
     "output_type": "stream",
     "text": [
      "20250423T135054 DEBUG    _consolidate_contributors Set contributor_name='Yao Fu, M. Susan Lozier, Tiago Carrilho Biló, Amy S. Bower, Stuart A. Cunningham, Frédéric Cyr, M. Femke de Jong, Brad deYoung, Lewis Drysdale, Neil Fraser, Nora Fried, Heather H. Furey, Guoqi Han, Patricia Handmann, N. Penny Holliday, James Holte, Mark E. Inall, William E. Johns, Sam Jones, Johannes Karstensen, Feili Li, Astrid Pacini, Robert S. Pickart, Darren Rayner, Fiammetta Straneo, Igor Yashayaev, M. Susan Lozier, Yao Fu, OSNAP investigators', contributor_role='data design, collection and/or processing'\n"
     ]
    },
    {
     "name": "stderr",
     "output_type": "stream",
     "text": [
      "20250423T135054 DEBUG    _consolidate_contributors Aligned contributor_email=', , , , , , , , , , , , , , , , , , , , , , , , , , susan.lozier@gatech.edu, yaofu@gatech.edu, '\n"
     ]
    },
    {
     "name": "stderr",
     "output_type": "stream",
     "text": [
      "20250423T135054 DEBUG    _consolidate_contributors Aligned contributor_id=', , , , , , , , , , , , , , , , , , , , , , , , , , , , '\n"
     ]
    },
    {
     "name": "stderr",
     "output_type": "stream",
     "text": [
      "20250423T135054 DEBUG    _consolidate_contributors Matched institution 'Georgia Institute of Technology, USA' → 'georgia institute of technology, usa' → ''\n"
     ]
    },
    {
     "name": "stderr",
     "output_type": "stream",
     "text": [
      "20250423T135054 DEBUG    _consolidate_contributors Matched institution 'National Oceanography Centre at Southampton, UK' → 'national oceanography centre at southampton, uk' → ''\n"
     ]
    },
    {
     "name": "stderr",
     "output_type": "stream",
     "text": [
      "20250423T135054 DEBUG    _consolidate_contributors Matched institution 'Woods Hole Oceanographic Institution, USA' → 'woods hole oceanographic institution, usa' → ''\n"
     ]
    },
    {
     "name": "stderr",
     "output_type": "stream",
     "text": [
      "20250423T135054 DEBUG    _consolidate_contributors Matched institution 'Scottish Association for Marine Science, UK' → 'scottish association for marine science, uk' → ''\n"
     ]
    },
    {
     "name": "stderr",
     "output_type": "stream",
     "text": [
      "20250423T135054 DEBUG    _consolidate_contributors Matched institution 'Royal Netherlands Institute for Sea Research and Utrecht University, Netherlands' → 'royal netherlands institute for sea research and utrecht university, netherlands' → ''\n"
     ]
    },
    {
     "name": "stderr",
     "output_type": "stream",
     "text": [
      "20250423T135054 DEBUG    _consolidate_contributors Matched institution 'Memorial University, Canada' → 'memorial university, canada' → ''\n"
     ]
    },
    {
     "name": "stderr",
     "output_type": "stream",
     "text": [
      "20250423T135054 DEBUG    _consolidate_contributors Matched institution 'Fisheries and Oceans Canada Northwest Atlantic Fisheries Centre and Institute of Ocean Sciences, Canada' → 'fisheries and oceans canada northwest atlantic fisheries centre and institute of ocean sciences, canada' → ''\n"
     ]
    },
    {
     "name": "stderr",
     "output_type": "stream",
     "text": [
      "20250423T135054 DEBUG    _consolidate_contributors Matched institution 'Scripps Institution of Oceanography, UCSD, USA' → 'scripps institution of oceanography, ucsd, usa' → ''\n"
     ]
    },
    {
     "name": "stderr",
     "output_type": "stream",
     "text": [
      "20250423T135054 DEBUG    _consolidate_contributors Matched institution 'Edinburgh University, UK' → 'edinburgh university, uk' → ''\n"
     ]
    },
    {
     "name": "stderr",
     "output_type": "stream",
     "text": [
      "20250423T135054 DEBUG    _consolidate_contributors Matched institution 'University of Miami, USA' → 'university of miami, usa' → ''\n"
     ]
    },
    {
     "name": "stderr",
     "output_type": "stream",
     "text": [
      "20250423T135054 DEBUG    _consolidate_contributors Matched institution 'GEOMAR Helmholtz Centre for Ocean Research Kiel, Germany' → 'geomar helmholtz centre for ocean research kiel, germany' → ''\n"
     ]
    },
    {
     "name": "stderr",
     "output_type": "stream",
     "text": [
      "20250423T135054 DEBUG    _consolidate_contributors Matched institution 'Bedford Institute of Oceanography, Canada' → 'bedford institute of oceanography, canada' → ''\n"
     ]
    },
    {
     "name": "stderr",
     "output_type": "stream",
     "text": [
      "20250423T135054 DEBUG    _consolidate_contributors Matched institution 'Xiamen University, China' → 'xiamen university, china' → ''\n"
     ]
    },
    {
     "name": "stderr",
     "output_type": "stream",
     "text": [
      "20250423T135054 DEBUG    _consolidate_contributors Matched institution 'Multiple contributing institutions (US, UK, Germany, Netherlands, Canada, France, China)' → 'multiple contributing institutions (us, uk, germany, netherlands, canada, france, china)' → ''\n"
     ]
    },
    {
     "name": "stderr",
     "output_type": "stream",
     "text": [
      "20250423T135054 DEBUG    _consolidate_contributors Finished _consolidate_contributors: {'title': 'OSNAP MOC MHT MFT time series (2014-2020)', 'project': 'Overturning in the Subpolar North Atlantic Program (OSNAP)', 'contributor_role': 'data design, collection and/or processing', 'data_assembly_center': 'Georgia Institute of Technology', 'references': 'Lozier et al. (2019), Science, doi:10.1126/science.aau6592; Li et al. (2017), JTECH, doi:10.1175/JTECH-D-16-0247.1; Li et al. (2021), Nature Communications, doi:10.1038/s41467-021-23350-2; Fu et al. (2023), Communications Earth & Environment, doi:10.1038/s43247-023-00848-9', 'citation': 'OSNAP data were collected and made freely available by the OSNAP (Overturning in the Subpolar North Atlantic Program) project and all the national programs that contribute to it (www.o-snap.org)', 'date_created': '2023-04-24 11:33:07', 'time_coverage_start': '2014-08-01', 'time_coverage_end': '2020-06-30', 'source_file': 'OSNAP_MOC_MHT_MFT_TimeSeries_201408_202006_2023.nc', 'source_path': '/home/runner/work/amocarray/amocarray/data/OSNAP_MOC_MHT_MFT_TimeSeries_201408_202006_2023.nc', 'web_link': 'https://www.o-snap.org', 'comment': 'Dataset accessed and processed via http://github.com/AMOCcommunity/amocarray', 'acknowledgement': 'OSNAP data were collected and made freely available by the OSNAP (Overturning in the Subpolar North Atlantic Program) project and all the national programs that contribute to it (www.o-snap.org).', 'doi': 'https://doi.org/10.35090/gatech/70342', 'data_product': 'Time series of MOC, MHT, and MFT', 'program': 'OSNAP', 'description': 'OSNAP transport and hydrographic estimates dataset, 2014-2020', 'license': 'Creative Commons Attribution 4.0 International (CC BY 4.0)', 'Conventions': 'CF-1.8, ACDD-1.3', 'featureType': 'timeSeries', 'platform': 'Mooring array', 'data_policy': 'Any person making use of OSNAP observational data and/or numerical results must communicate with the responsible investigators at the start of the analysis and anticipate that the data collectors will be co-authors of published results. In cases where investigators choose not to be co-authors on publications that rely on their data, the parties responsible for collecting the data and the sponsoring funding agencies should be acknowledged, including reference to any relevant publications by the originating authors describing the data sets and a reference to the data set itself using its DOI. OSNAP data are intended for scholarly use by the academic and scientific community, with the express understanding that any such use will properly acknowledge the originating investigator.', 'summary': 'OSNAP transport and hydrographic estimates dataset, 2014-2020', 'contributor_name': 'Yao Fu, M. Susan Lozier, Tiago Carrilho Biló, Amy S. Bower, Stuart A. Cunningham, Frédéric Cyr, M. Femke de Jong, Brad deYoung, Lewis Drysdale, Neil Fraser, Nora Fried, Heather H. Furey, Guoqi Han, Patricia Handmann, N. Penny Holliday, James Holte, Mark E. Inall, William E. Johns, Sam Jones, Johannes Karstensen, Feili Li, Astrid Pacini, Robert S. Pickart, Darren Rayner, Fiammetta Straneo, Igor Yashayaev, M. Susan Lozier, Yao Fu, OSNAP investigators', 'contributor_email': ', , , , , , , , , , , , , , , , , , , , , , , , , , susan.lozier@gatech.edu, yaofu@gatech.edu, ', 'contributor_id': ', , , , , , , , , , , , , , , , , , , , , , , , , , , , ', 'contributing_institutions': 'Georgia Institute of Technology, USA, National Oceanography Centre at Southampton, UK, Woods Hole Oceanographic Institution, USA, Scottish Association for Marine Science, UK, Royal Netherlands Institute for Sea Research and Utrecht University, Netherlands, Memorial University, Canada, Fisheries and Oceans Canada Northwest Atlantic Fisheries Centre and Institute of Ocean Sciences, Canada, Scripps Institution of Oceanography, UCSD, USA, Edinburgh University, UK, University of Miami, USA, GEOMAR Helmholtz Centre for Ocean Research Kiel, Germany, Bedford Institute of Oceanography, Canada, Xiamen University, China, Multiple contributing institutions (US, UK, Germany, Netherlands, Canada, France, China)', 'contributing_institutions_vocabulary': ', , , , , , , , , , , , , ', 'contributing_institutions_role': '', 'contributing_institutions_role_vocabulary': ''}\n"
     ]
    },
    {
     "name": "stderr",
     "output_type": "stream",
     "text": [
      "20250423T135054 DEBUG    normalize_and_add_vocabulary Normalized 'platform': 'Mooring array' → 'mooring'\n"
     ]
    },
    {
     "name": "stderr",
     "output_type": "stream",
     "text": [
      "20250423T135054 DEBUG    normalize_and_add_vocabulary Added vocabulary for 'platform': https://vocab.nerc.ac.uk/collection/L06/\n"
     ]
    },
    {
     "name": "stderr",
     "output_type": "stream",
     "text": [
      "20250423T135054 DEBUG    normalize_and_add_vocabulary Added vocabulary for 'featureType': https://cfconventions.org/cf-conventions/v1.6.0/cf-conventions.html#_features_and_feature_types\n"
     ]
    },
    {
     "name": "stdout",
     "output_type": "stream",
     "text": [
      "Summary for array 'osnap':\n",
      "Total datasets loaded: 1\n",
      "\n",
      "Dataset 1:\n",
      "  Source file: OSNAP_MOC_MHT_MFT_TimeSeries_201408_202006_2023.nc\n",
      "  Time coverage: 2014-08-01 to 2020-06-01\n",
      "  Dimensions:\n",
      "    - TIME: 71\n",
      "  Variables:\n",
      "    - MOC_ALL: shape (71,)\n",
      "    - MOC_ALL_ERR: shape (71,)\n",
      "    - MOC_EAST: shape (71,)\n",
      "    - MOC_EAST_ERR: shape (71,)\n",
      "    - MOC_WEST: shape (71,)\n",
      "    - MOC_WEST_ERR: shape (71,)\n",
      "    - MHT_ALL: shape (71,)\n",
      "    - MHT_ALL_ERR: shape (71,)\n",
      "    - MHT_EAST: shape (71,)\n",
      "    - MHT_EAST_ERR: shape (71,)\n",
      "    - MHT_WEST: shape (71,)\n",
      "    - MHT_WEST_ERR: shape (71,)\n",
      "    - MFT_ALL: shape (71,)\n",
      "    - MFT_ALL_ERR: shape (71,)\n",
      "    - MFT_EAST: shape (71,)\n",
      "    - MFT_EAST_ERR: shape (71,)\n",
      "    - MFT_WEST: shape (71,)\n",
      "    - MFT_WEST_ERR: shape (71,)\n",
      "\n"
     ]
    }
   ],
   "source": [
    "datasetsOSNAP = readers.load_dataset(\"osnap\")\n",
    "ds_osnap = datasetsOSNAP[0]\n",
    "standardOSNAP = [\n",
    "    standardise.standardise_osnap(ds, ds.attrs[\"source_file\"]) for ds in datasetsOSNAP\n",
    "]"
   ]
  },
  {
   "cell_type": "markdown",
   "id": "b5d72da3",
   "metadata": {},
   "source": [
    "### Load SAMBA 34.5°S"
   ]
  },
  {
   "cell_type": "code",
   "execution_count": 8,
   "id": "76614b06",
   "metadata": {
    "execution": {
     "iopub.execute_input": "2025-04-23T13:50:54.871249Z",
     "iopub.status.busy": "2025-04-23T13:50:54.870825Z",
     "iopub.status.idle": "2025-04-23T13:50:54.919375Z",
     "shell.execute_reply": "2025-04-23T13:50:54.919016Z"
    }
   },
   "outputs": [
    {
     "name": "stderr",
     "output_type": "stream",
     "text": [
      "20250423T135054 INFO     setup_logger Logger initialized for array: SAMBA, writing to /home/runner/work/amocarray/amocarray/logs/SAMBA_20250423T13_read.log\n"
     ]
    },
    {
     "name": "stderr",
     "output_type": "stream",
     "text": [
      "20250423T135054 INFO     load_dataset Loading dataset for array: SAMBA\n"
     ]
    },
    {
     "name": "stderr",
     "output_type": "stream",
     "text": [
      "20250423T135054 INFO     read_samba Starting to read SAMBA dataset\n"
     ]
    },
    {
     "name": "stderr",
     "output_type": "stream",
     "text": [
      "20250423T135054 INFO     resolve_file_path Using cached file: /home/runner/work/amocarray/amocarray/data/Upper_Abyssal_Transport_Anomalies.txt\n"
     ]
    },
    {
     "name": "stderr",
     "output_type": "stream",
     "text": [
      "20250423T135054 INFO     read_samba Attaching metadata to SAMBA dataset from file: Upper_Abyssal_Transport_Anomalies.txt\n"
     ]
    },
    {
     "name": "stderr",
     "output_type": "stream",
     "text": [
      "20250423T135054 INFO     resolve_file_path Using cached file: /home/runner/work/amocarray/amocarray/data/MOC_TotalAnomaly_and_constituents.asc\n"
     ]
    },
    {
     "name": "stderr",
     "output_type": "stream",
     "text": [
      "20250423T135054 INFO     read_samba Attaching metadata to SAMBA dataset from file: MOC_TotalAnomaly_and_constituents.asc\n"
     ]
    },
    {
     "name": "stderr",
     "output_type": "stream",
     "text": [
      "20250423T135054 INFO     read_samba Successfully loaded 2 SAMBA dataset(s)\n"
     ]
    },
    {
     "name": "stderr",
     "output_type": "stream",
     "text": [
      "20250423T135054 INFO     load_dataset Successfully loaded 2 dataset(s) for array: SAMBA\n"
     ]
    },
    {
     "name": "stderr",
     "output_type": "stream",
     "text": [
      "20250423T135054 INFO     _summarise_datasets \n",
      "Summary for array 'SAMBA':\n",
      "Total datasets loaded: 2\n",
      "\n",
      "Dataset 1:\n",
      "  Source file: Upper_Abyssal_Transport_Anomalies.txt\n",
      "  Time coverage: 2013-09-12 to 2017-07-16\n",
      "  Dimensions:\n",
      "    - TIME: 1404\n",
      "  Variables:\n",
      "    - Upper-cell volume transport anomaly (relative to record-length average of 17.3 Sv): shape (1404,)\n",
      "    - Abyssal-cell volume transport anomaly (relative to record-length average of 7.8 Sv): shape (1404,)\n",
      "\n",
      "Dataset 2:\n",
      "  Source file: MOC_TotalAnomaly_and_constituents.asc\n",
      "  Time coverage: 2009-03-19 to 2017-04-29\n",
      "  Dimensions:\n",
      "    - TIME: 2964\n",
      "  Variables:\n",
      "    - Total MOC anomaly (relative to record-length average of 14.7 Sv): shape (2964,)\n",
      "    - Relative (density gradient) contribution to the MOC anomaly: shape (2964,)\n",
      "    - Reference (bottom pressure gradient) contribution to the MOC anomaly: shape (2964,)\n",
      "    - Ekman (wind) contribution to the MOC anomaly: shape (2964,)\n",
      "    - Western density contribution to the MOC anomaly: shape (2964,)\n",
      "    - Eastern density contribution to the MOC anomaly: shape (2964,)\n",
      "    - Western bottom pressure contribution to the MOC anomaly: shape (2964,)\n",
      "    - Eastern bottom pressure contribution to the MOC anomaly: shape (2964,)\n",
      "\n"
     ]
    },
    {
     "name": "stderr",
     "output_type": "stream",
     "text": [
      "20250423T135054 DEBUG    standardise_array Standardising Upper_Abyssal_Transport_Anomalies.txt for SAMBA\n"
     ]
    },
    {
     "name": "stderr",
     "output_type": "stream",
     "text": [
      "20250423T135054 DEBUG    merge_metadata_aliases Renaming key 'weblink' → 'web_link'\n"
     ]
    },
    {
     "name": "stderr",
     "output_type": "stream",
     "text": [
      "20250423T135054 DEBUG    merge_metadata_aliases Renaming key 'platform_type' → 'platform'\n"
     ]
    },
    {
     "name": "stderr",
     "output_type": "stream",
     "text": [
      "20250423T135054 DEBUG    _consolidate_contributors Starting _consolidate_contributors with attrs: {'source_file': 'Upper_Abyssal_Transport_Anomalies.txt', 'source_path': '/home/runner/work/amocarray/amocarray/data/Upper_Abyssal_Transport_Anomalies.txt', 'description': 'SAMBA 34S transport estimates dataset', 'project': 'South Atlantic MOC Basin-wide Array (SAMBA)', 'web_link': 'https://www.aoml.noaa.gov/phod/samoc', 'comment': 'Dataset accessed and processed via http://github.com/AMOCcommunity/amocarray', 'acknowledgement': 'M. Kersalé et al., Highly variable upper and abyssal overturning cells in the South Atlantic. Sci. Adv. 6, eaba7573 (2020). DOI: 10.1126/sciadv.aba7573', 'data_product': 'Daily volume transport anomaly estimates for the upper and abyssal cells of the MOC', 'program': 'SAMBA', 'license': 'CC-BY 4.0', 'featureType': 'timeSeries', 'Conventions': 'CF-1.8, ACDD-1.3', 'time_coverage_start': '2001-06-01', 'time_coverage_end': '2023-12-31', 'platform': 'Mooring array', 'summary': 'SAMBA 34S transport estimates dataset'}\n"
     ]
    },
    {
     "name": "stderr",
     "output_type": "stream",
     "text": [
      "20250423T135054 DEBUG    _consolidate_contributors Email buckets: {}\n"
     ]
    },
    {
     "name": "stderr",
     "output_type": "stream",
     "text": [
      "20250423T135054 DEBUG    _consolidate_contributors URL buckets: {}\n"
     ]
    },
    {
     "name": "stderr",
     "output_type": "stream",
     "text": [
      "20250423T135054 DEBUG    _consolidate_contributors Names: []; Roles: []; Sources: []\n"
     ]
    },
    {
     "name": "stderr",
     "output_type": "stream",
     "text": [
      "20250423T135054 DEBUG    _consolidate_contributors Finished _consolidate_contributors: {'source_file': 'Upper_Abyssal_Transport_Anomalies.txt', 'source_path': '/home/runner/work/amocarray/amocarray/data/Upper_Abyssal_Transport_Anomalies.txt', 'description': 'SAMBA 34S transport estimates dataset', 'project': 'South Atlantic MOC Basin-wide Array (SAMBA)', 'web_link': 'https://www.aoml.noaa.gov/phod/samoc', 'comment': 'Dataset accessed and processed via http://github.com/AMOCcommunity/amocarray', 'acknowledgement': 'M. Kersalé et al., Highly variable upper and abyssal overturning cells in the South Atlantic. Sci. Adv. 6, eaba7573 (2020). DOI: 10.1126/sciadv.aba7573', 'data_product': 'Daily volume transport anomaly estimates for the upper and abyssal cells of the MOC', 'program': 'SAMBA', 'license': 'CC-BY 4.0', 'featureType': 'timeSeries', 'Conventions': 'CF-1.8, ACDD-1.3', 'time_coverage_start': '2001-06-01', 'time_coverage_end': '2023-12-31', 'platform': 'Mooring array', 'summary': 'SAMBA 34S transport estimates dataset'}\n"
     ]
    },
    {
     "name": "stderr",
     "output_type": "stream",
     "text": [
      "20250423T135054 DEBUG    normalize_and_add_vocabulary Normalized 'platform': 'Mooring array' → 'mooring'\n"
     ]
    },
    {
     "name": "stderr",
     "output_type": "stream",
     "text": [
      "20250423T135054 DEBUG    normalize_and_add_vocabulary Added vocabulary for 'platform': https://vocab.nerc.ac.uk/collection/L06/\n"
     ]
    },
    {
     "name": "stderr",
     "output_type": "stream",
     "text": [
      "20250423T135054 DEBUG    normalize_and_add_vocabulary Added vocabulary for 'featureType': https://cfconventions.org/cf-conventions/v1.6.0/cf-conventions.html#_features_and_feature_types\n"
     ]
    },
    {
     "name": "stderr",
     "output_type": "stream",
     "text": [
      "20250423T135054 DEBUG    standardise_array Standardising MOC_TotalAnomaly_and_constituents.asc for SAMBA\n"
     ]
    },
    {
     "name": "stderr",
     "output_type": "stream",
     "text": [
      "20250423T135054 DEBUG    merge_metadata_aliases Renaming key 'weblink' → 'web_link'\n"
     ]
    },
    {
     "name": "stderr",
     "output_type": "stream",
     "text": [
      "20250423T135054 DEBUG    merge_metadata_aliases Renaming key 'platform_type' → 'platform'\n"
     ]
    },
    {
     "name": "stderr",
     "output_type": "stream",
     "text": [
      "20250423T135054 DEBUG    _consolidate_contributors Starting _consolidate_contributors with attrs: {'source_file': 'MOC_TotalAnomaly_and_constituents.asc', 'source_path': '/home/runner/work/amocarray/amocarray/data/MOC_TotalAnomaly_and_constituents.asc', 'description': 'SAMBA 34S transport estimates dataset', 'project': 'South Atlantic MOC Basin-wide Array (SAMBA)', 'web_link': 'https://www.aoml.noaa.gov/phod/samoc', 'comment': 'Dataset accessed and processed via http://github.com/AMOCcommunity/amocarray', 'acknowledgement': 'Meinen, C. S., Speich, S., Piola, A. R., Ansorge, I., Campos, E., Kersalé, M., et al. (2018). Meridional overturning circulation transport variability at 34.5°S during 2009–2017: Baroclinic and barotropic flows and the dueling influence of the boundaries. Geophysical Research Letters, 45, 4180–4188. https://doi.org/10.1029/2018GL077408', 'data_product': 'Daily travel time values, calibrated to a nominal pressure of 1000 dbar, and bottom pressures from the two PIES/CPIES moorings', 'program': 'SAMBA', 'license': 'CC-BY 4.0', 'featureType': 'timeSeries', 'Conventions': 'CF-1.8, ACDD-1.3', 'time_coverage_start': '2001-06-01', 'time_coverage_end': '2023-12-31', 'platform': 'Mooring array', 'summary': 'SAMBA 34S transport estimates dataset'}\n"
     ]
    },
    {
     "name": "stderr",
     "output_type": "stream",
     "text": [
      "20250423T135054 DEBUG    _consolidate_contributors Email buckets: {}\n"
     ]
    },
    {
     "name": "stderr",
     "output_type": "stream",
     "text": [
      "20250423T135054 DEBUG    _consolidate_contributors URL buckets: {}\n"
     ]
    },
    {
     "name": "stderr",
     "output_type": "stream",
     "text": [
      "20250423T135054 DEBUG    _consolidate_contributors Names: []; Roles: []; Sources: []\n"
     ]
    },
    {
     "name": "stderr",
     "output_type": "stream",
     "text": [
      "20250423T135054 DEBUG    _consolidate_contributors Finished _consolidate_contributors: {'source_file': 'MOC_TotalAnomaly_and_constituents.asc', 'source_path': '/home/runner/work/amocarray/amocarray/data/MOC_TotalAnomaly_and_constituents.asc', 'description': 'SAMBA 34S transport estimates dataset', 'project': 'South Atlantic MOC Basin-wide Array (SAMBA)', 'web_link': 'https://www.aoml.noaa.gov/phod/samoc', 'comment': 'Dataset accessed and processed via http://github.com/AMOCcommunity/amocarray', 'acknowledgement': 'Meinen, C. S., Speich, S., Piola, A. R., Ansorge, I., Campos, E., Kersalé, M., et al. (2018). Meridional overturning circulation transport variability at 34.5°S during 2009–2017: Baroclinic and barotropic flows and the dueling influence of the boundaries. Geophysical Research Letters, 45, 4180–4188. https://doi.org/10.1029/2018GL077408', 'data_product': 'Daily travel time values, calibrated to a nominal pressure of 1000 dbar, and bottom pressures from the two PIES/CPIES moorings', 'program': 'SAMBA', 'license': 'CC-BY 4.0', 'featureType': 'timeSeries', 'Conventions': 'CF-1.8, ACDD-1.3', 'time_coverage_start': '2001-06-01', 'time_coverage_end': '2023-12-31', 'platform': 'Mooring array', 'summary': 'SAMBA 34S transport estimates dataset'}\n"
     ]
    },
    {
     "name": "stderr",
     "output_type": "stream",
     "text": [
      "20250423T135054 DEBUG    normalize_and_add_vocabulary Normalized 'platform': 'Mooring array' → 'mooring'\n"
     ]
    },
    {
     "name": "stderr",
     "output_type": "stream",
     "text": [
      "20250423T135054 DEBUG    normalize_and_add_vocabulary Added vocabulary for 'platform': https://vocab.nerc.ac.uk/collection/L06/\n"
     ]
    },
    {
     "name": "stderr",
     "output_type": "stream",
     "text": [
      "20250423T135054 DEBUG    normalize_and_add_vocabulary Added vocabulary for 'featureType': https://cfconventions.org/cf-conventions/v1.6.0/cf-conventions.html#_features_and_feature_types\n"
     ]
    },
    {
     "name": "stdout",
     "output_type": "stream",
     "text": [
      "Summary for array 'SAMBA':\n",
      "Total datasets loaded: 2\n",
      "\n",
      "Dataset 1:\n",
      "  Source file: Upper_Abyssal_Transport_Anomalies.txt\n",
      "  Time coverage: 2013-09-12 to 2017-07-16\n",
      "  Dimensions:\n",
      "    - TIME: 1404\n",
      "  Variables:\n",
      "    - Upper-cell volume transport anomaly (relative to record-length average of 17.3 Sv): shape (1404,)\n",
      "    - Abyssal-cell volume transport anomaly (relative to record-length average of 7.8 Sv): shape (1404,)\n",
      "\n",
      "Dataset 2:\n",
      "  Source file: MOC_TotalAnomaly_and_constituents.asc\n",
      "  Time coverage: 2009-03-19 to 2017-04-29\n",
      "  Dimensions:\n",
      "    - TIME: 2964\n",
      "  Variables:\n",
      "    - Total MOC anomaly (relative to record-length average of 14.7 Sv): shape (2964,)\n",
      "    - Relative (density gradient) contribution to the MOC anomaly: shape (2964,)\n",
      "    - Reference (bottom pressure gradient) contribution to the MOC anomaly: shape (2964,)\n",
      "    - Ekman (wind) contribution to the MOC anomaly: shape (2964,)\n",
      "    - Western density contribution to the MOC anomaly: shape (2964,)\n",
      "    - Eastern density contribution to the MOC anomaly: shape (2964,)\n",
      "    - Western bottom pressure contribution to the MOC anomaly: shape (2964,)\n",
      "    - Eastern bottom pressure contribution to the MOC anomaly: shape (2964,)\n",
      "\n"
     ]
    }
   ],
   "source": [
    "datasetsSAMBA = readers.load_dataset(\"SAMBA\")\n",
    "standardSAMBA = [\n",
    "    standardise.standardise_samba(ds, ds.attrs[\"source_file\"]) for ds in datasetsSAMBA\n",
    "]\n"
   ]
  },
  {
   "cell_type": "code",
   "execution_count": 9,
   "id": "8c356a46",
   "metadata": {
    "execution": {
     "iopub.execute_input": "2025-04-23T13:50:54.920917Z",
     "iopub.status.busy": "2025-04-23T13:50:54.920760Z",
     "iopub.status.idle": "2025-04-23T13:50:55.090337Z",
     "shell.execute_reply": "2025-04-23T13:50:55.089891Z"
    }
   },
   "outputs": [
    {
     "data": {
      "image/png": "[encoded data removed]",
      "text/plain": [
       "<Figure size 1000x300 with 1 Axes>"
      ]
     },
     "metadata": {},
     "output_type": "display_data"
    }
   ],
   "source": [
    "# Extract the upper and abyssal transport data\n",
    "ds = standardSAMBA[0]\n",
    "upper_transport = ds[\"UPPER_TRANSPORT\"]\n",
    "ds2 = standardSAMBA[1]\n",
    "moc_meinen = ds2[\"MOC\"]\n",
    "\n",
    "\n",
    "# Resample the dataset to monthly averages\n",
    "upper_transport_monthly = upper_transport.resample(TIME=\"ME\").mean()\n",
    "moc_meinen_monthly = moc_meinen.resample(TIME=\"ME\").mean()\n",
    "# Create a figure and axis\n",
    "fig, ax = plt.subplots(figsize=(10, 3))\n",
    "\n",
    "# Plot the original upper transport in thin blue\n",
    "ax.plot(\n",
    "    upper_transport_monthly[\"TIME\"],\n",
    "    upper_transport_monthly,\n",
    "    color=\"grey\",\n",
    "    linewidth=0.5,\n",
    "    label=\"Kersale et al. 2020\",\n",
    ")\n",
    "ax.plot(\n",
    "    moc_meinen_monthly[\"TIME\"],\n",
    "    moc_meinen_monthly,\n",
    "    color=\"blue\",\n",
    "    alpha=1,\n",
    "    linewidth=1.5,\n",
    "    label=\"Meinen et al. 2018\",\n",
    ")\n",
    "\n",
    "\n",
    "# Add a horizontal line at y=0\n",
    "ax.axhline(0, color=\"black\", linestyle=\"--\", linewidth=0.5)\n",
    "\n",
    "# Customize the axes\n",
    "ax.spines[\"top\"].set_visible(False)\n",
    "ax.spines[\"right\"].set_visible(False)\n",
    "\n",
    "# Add labels, title, and legend\n",
    "ax.set_title(\"SAMBA 34.5°S\")\n",
    "ax.set_xlabel(\"Time\")\n",
    "ax.set_ylabel(\n",
    "    f\"{upper_transport.attrs['standard_name']} [{upper_transport.attrs['units']}]\"\n",
    ")\n",
    "ax.legend()\n",
    "# Set the x-axis limits from 2000 to 2022\n",
    "import pandas as pd\n",
    "\n",
    "ax.set_xlim([pd.Timestamp(\"2000-01-01\"), pd.Timestamp(\"2022-12-31\")])\n",
    "\n",
    "# Set the y-axis limits from -15 to 15\n",
    "ax.set_ylim([-15, 15])\n",
    "\n",
    "# Customize the grid\n",
    "ax.grid(True, linestyle=\"--\", alpha=0.5)"
   ]
  },
  {
   "cell_type": "code",
   "execution_count": 10,
   "id": "b8fa04d3",
   "metadata": {
    "execution": {
     "iopub.execute_input": "2025-04-23T13:50:55.091935Z",
     "iopub.status.busy": "2025-04-23T13:50:55.091774Z",
     "iopub.status.idle": "2025-04-23T13:50:55.716265Z",
     "shell.execute_reply": "2025-04-23T13:50:55.715756Z"
    }
   },
   "outputs": [
    {
     "data": {
      "text/plain": [
       "(<Figure size 500x700 with 4 Axes>,\n",
       " array([<Axes: title={'center': 'OSNAP'}, ylabel='Transport [Sv]'>,\n",
       "        <Axes: title={'center': 'RAPID 26°N'}, ylabel='Transport [Sv]'>,\n",
       "        <Axes: title={'center': 'MOVE 16°N'}, ylabel='Transport [Sv]'>,\n",
       "        <Axes: title={'center': 'SAMBA 34.5°S'}, xlabel='Time', ylabel='Transport [Sv]'>],\n",
       "       dtype=object))"
      ]
     },
     "execution_count": 10,
     "metadata": {},
     "output_type": "execute_result"
    },
    {
     "data": {
      "image/png": "[encoded data removed]",
      "text/plain": [
       "<Figure size 500x700 with 4 Axes>"
      ]
     },
     "metadata": {},
     "output_type": "display_data"
    }
   ],
   "source": [
    "plotters.plot_monthly_anomalies(\n",
    "    osnap_data=ds_osnap[\"MOC_ALL\"],\n",
    "    rapid_data=ds_rapid[\"moc_mar_hc10\"],\n",
    "    move_data=-ds_move[\"TRANSPORT_TOTAL\"],\n",
    "    samba_data=standardSAMBA[1][\"MOC\"],\n",
    "    osnap_label=\"OSNAP\",\n",
    "    rapid_label=\"RAPID 26°N\",\n",
    "    move_label=\"MOVE 16°N\",\n",
    "    samba_label=\"SAMBA 34.5°S\",\n",
    ")"
   ]
  },
  {
   "cell_type": "code",
   "execution_count": null,
   "id": "2ba29987",
   "metadata": {},
   "outputs": [],
   "source": []
  }
 ],
 "metadata": {
  "kernelspec": {
   "display_name": "venv",
   "language": "python",
   "name": "python3"
  },
  "language_info": {
   "codemirror_mode": {
    "name": "ipython",
    "version": 3
   },
   "file_extension": ".py",
   "mimetype": "text/x-python",
   "name": "python",
   "nbconvert_exporter": "python",
   "pygments_lexer": "ipython3",
   "version": "3.13.3"
  }
 },
 "nbformat": 4,
 "nbformat_minor": 5
}
